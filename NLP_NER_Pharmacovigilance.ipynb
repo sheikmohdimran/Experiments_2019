{
  "nbformat": 4,
  "nbformat_minor": 0,
  "metadata": {
    "colab": {
      "name": "NLP_NER_Pharmacovigilance.ipynb",
      "provenance": [],
      "include_colab_link": true
    },
    "kernelspec": {
      "name": "python3",
      "display_name": "Python 3"
    },
    "accelerator": "GPU"
  },
  "cells": [
    {
      "cell_type": "markdown",
      "metadata": {
        "id": "view-in-github",
        "colab_type": "text"
      },
      "source": [
        "<a href=\"https://colab.research.google.com/github/sheikmohdimran/Experiments_2019/blob/master/NLP_NER_Pharmacovigilance.ipynb\" target=\"_parent\"><img src=\"https://colab.research.google.com/assets/colab-badge.svg\" alt=\"Open In Colab\"/></a>"
      ]
    },
    {
      "cell_type": "code",
      "metadata": {
        "id": "usNKkB2r2LB1",
        "colab_type": "code",
        "colab": {}
      },
      "source": [
        "import json\n",
        "from pandas.io.json import json_normalize\n",
        "import pandas as pd\n",
        "import numpy as np\n",
        "import glob\n",
        "\n",
        "mylist = [f for f in glob.glob(\"*.json\")]\n",
        "final_df = pd.DataFrame()"
      ],
      "execution_count": 0,
      "outputs": []
    },
    {
      "cell_type": "code",
      "metadata": {
        "id": "9Q1Y8sjO-BV8",
        "colab_type": "code",
        "colab": {}
      },
      "source": [
        "l=0\n",
        "for filename in mylist:\n",
        "  x=filename.split('-')[-1].split('.')[0]\n",
        "  with open(filename, 'r') as f:\n",
        "    datastore = json.load(f)\n",
        "    sentences=json_normalize(data=datastore['sentences'], record_path=['tokens'])\n",
        "    mentions=json_normalize(datastore['mentions'])[['begin','end','type']]\n",
        "    mentions['type']='I-'+mentions['type']\n",
        "    j=mentions\n",
        "    k='whiteSpace'\n",
        "    for i in range(len(mentions)):\n",
        "      sentences.loc[(sentences['end']>j.iloc[i,0]) & (sentences['end']<=j.iloc[i,1])\n",
        "                    , k] = j.iloc[i,2]\n",
        "  \n",
        "  \n",
        "    sentences.loc[(sentences.whiteSpace==False) , 'whiteSpace'] = 'O'\n",
        "    sentences.id=x+sentences.id.str.replace('-t[0-9]+', '')\n",
        "    ## Delete References\n",
        "    a=sentences[sentences.text.str.upper()=='REFERENCES']\n",
        "    ## Handle Documents without references\n",
        "    if a.empty:\n",
        "      a=sentences.iloc[-1,1]\n",
        "    else:\n",
        "      a=a.iloc[0,1]\n",
        "\n",
        "    final_df=final_df.append(sentences[(sentences.end)<a])\n",
        "    \n",
        "final_df.reset_index(inplace=True)"
      ],
      "execution_count": 0,
      "outputs": []
    },
    {
      "cell_type": "code",
      "metadata": {
        "id": "XQGyrxUFPNbz",
        "colab_type": "code",
        "colab": {}
      },
      "source": [
        "final_df.loc[(final_df.whiteSpace=='I-AuthorNameInVancouver') , 'whiteSpace'] = 'O'\n",
        "final_df.loc[(final_df.whiteSpace=='I-AgeGroupOfPatient') , 'whiteSpace'] = 'O'\n",
        "final_df.loc[(final_df.whiteSpace=='I-ReporterFaxNumber') , 'whiteSpace'] = 'O'\n",
        "final_df.loc[(final_df.whiteSpace=='I-ReporterAltPhone') , 'whiteSpace'] = 'O'\n",
        "final_df.loc[(final_df.whiteSpace=='I-ReporterPostalCode') , 'whiteSpace'] = 'O'\n",
        "final_df.loc[(final_df.whiteSpace=='I-ReporterState') , 'whiteSpace'] = 'O'\n",
        "\n",
        "final_df.loc[(final_df.whiteSpace=='I-RaceOfPatient') , 'whiteSpace'] = 'O'\n",
        "final_df.loc[(final_df.whiteSpace=='I-ReporterSalutation') , 'whiteSpace'] = 'O'\n",
        "final_df.loc[(final_df.whiteSpace=='I-ReporterSuffix') , 'whiteSpace'] = 'O'\n",
        "final_df.loc[(final_df.whiteSpace=='I-PageOfPublication') , 'whiteSpace'] = 'O'\n",
        "final_df.loc[(final_df.whiteSpace=='I-ReporterPhoneNumber') , 'whiteSpace'] = 'O'"
      ],
      "execution_count": 0,
      "outputs": []
    },
    {
      "cell_type": "code",
      "metadata": {
        "id": "_DKDzfe8WiOR",
        "colab_type": "code",
        "outputId": "eeb28460-8ab7-4f59-fa43-abf298579d43",
        "colab": {
          "base_uri": "https://localhost:8080/",
          "height": 102
        }
      },
      "source": [
        "#EDA\n",
        "#final_df[(final_df.text=='Ibuprofen')]\n",
        "#final_df[(final_df.whiteSpace=='I-SuspectedProductName')].text.str.lower().value_counts(sort=True)\n",
        "#final_df[(final_df.whiteSpace=='I-SuspectedProductName')&((final_df.text=='olanza')|(final_df.text=='pine')|(final_df.text=='-'))]\n",
        "#final_df[(final_df.whiteSpace=='I-SuspectedProductName')].text.str.lower().unique()\n",
        "final_df[(final_df.text.isin(['ibuprofen','olanzapine','clozapine',\n",
        "                              'fluoxetine','atorvastatin','quetiapine']))].whiteSpace.value_counts(sort=True)"
      ],
      "execution_count": 0,
      "outputs": [
        {
          "output_type": "execute_result",
          "data": {
            "text/plain": [
              "O                         479\n",
              "I-SuspectedProductName    291\n",
              "I-ArticleTitle              2\n",
              "I-JournalName               1\n",
              "Name: whiteSpace, dtype: int64"
            ]
          },
          "metadata": {
            "tags": []
          },
          "execution_count": 14
        }
      ]
    },
    {
      "cell_type": "code",
      "metadata": {
        "id": "jWSTCZ2koCND",
        "colab_type": "code",
        "outputId": "4f0c89c0-89f0-4255-fc2a-01c24014d35f",
        "colab": {
          "base_uri": "https://localhost:8080/",
          "height": 408
        }
      },
      "source": [
        "final_df[(final_df.whiteSpace=='I-ReportedIndication')].text.str.lower().unique()#.value_counts(sort=True)"
      ],
      "execution_count": 0,
      "outputs": [
        {
          "output_type": "execute_result",
          "data": {
            "text/plain": [
              "array(['vasculitis', 'hyperlipidemia', 'schizophrenia', 'increased',\n",
              "       'agitation', 'yelling', 'bipolar', 'disorder', 'manic', 'episodes',\n",
              "       'recurrent', 'episode', 'hypercholesterolemia', 'schizophrenic',\n",
              "       'generalized', 'anxiety', 'severe', 'toothache', 'behavioral',\n",
              "       'and', 'psychological', 'symptoms', 'of', 'dementia',\n",
              "       'disorientation', 'insomnia', 'low', 'back', 'pain', 'management',\n",
              "       'delirium', 'chemotherapy', 'induced', 'nausea', 'vomiting',\n",
              "       'onset', 'the', 'appeared', 'to', 'be', 'temporally', 'related',\n",
              "       'commencing', 'treatment', 'with', 'enzalutamide', 'paranoid',\n",
              "       'other', 'disorders', 'depression', 'ear', 'psychosis',\n",
              "       'dyslipidemic', 'treatment-resistant', 'residual',\n",
              "       'treatmentresistant', 'persistent', 'delusional', 'aggression',\n",
              "       ',', 'impulsivity', 'hyperactivity', 'major', 'depressive',\n",
              "       'analgesic', 'antipyretic', 'eye', 'fever', 'arthralgias',\n",
              "       'moderate', '(', ')', 'flu-like', 'cystitis', 'associated',\n",
              "       'spondyloarthritic', 'changes', 'spine', 'viraemia', 'distress',\n",
              "       'unhappiness', 'a', 'genetic', 'prevents', 'hepatic', 'cells',\n",
              "       'from', 'removing', 'serum', 'ldl-cholesterol', 'reduce', 'ldl',\n",
              "       'cholesterol', 'hypercholesterolaemia', 'refractory', 'hebefrenic',\n",
              "       'resistant', 'formal', 'thought', 'affective', 'flattening',\n",
              "       'delusions', 'auditory', 'hallucinations', 'tension', 'headaches',\n",
              "       'chronic', 'migraines', 'reducing', 'risk', 'suicidal',\n",
              "       'behaviors', 'in', 'schizoaffective'], dtype=object)"
            ]
          },
          "metadata": {
            "tags": []
          },
          "execution_count": 5
        }
      ]
    },
    {
      "cell_type": "code",
      "metadata": {
        "id": "aTyFyT8Fmkzd",
        "colab_type": "code",
        "outputId": "aa0e23cf-1421-402f-a025-bd38d3bf049c",
        "colab": {
          "base_uri": "https://localhost:8080/",
          "height": 204
        }
      },
      "source": [
        "#final_df[(final_df.whiteSpace=='I-YearOfPublication')].text.str.lower().value_counts(sort=True)\n",
        "final_df[(final_df.whiteSpace=='I-YearOfPublication')&(final_df.text.isin(['1','2','5','0',':']))]"
      ],
      "execution_count": 0,
      "outputs": [
        {
          "output_type": "execute_result",
          "data": {
            "text/html": [
              "<div>\n",
              "<style scoped>\n",
              "    .dataframe tbody tr th:only-of-type {\n",
              "        vertical-align: middle;\n",
              "    }\n",
              "\n",
              "    .dataframe tbody tr th {\n",
              "        vertical-align: top;\n",
              "    }\n",
              "\n",
              "    .dataframe thead th {\n",
              "        text-align: right;\n",
              "    }\n",
              "</style>\n",
              "<table border=\"1\" class=\"dataframe\">\n",
              "  <thead>\n",
              "    <tr style=\"text-align: right;\">\n",
              "      <th></th>\n",
              "      <th>index</th>\n",
              "      <th>begin</th>\n",
              "      <th>end</th>\n",
              "      <th>id</th>\n",
              "      <th>text</th>\n",
              "      <th>whiteSpace</th>\n",
              "    </tr>\n",
              "  </thead>\n",
              "  <tbody>\n",
              "    <tr>\n",
              "      <th>55112</th>\n",
              "      <td>33</td>\n",
              "      <td>66</td>\n",
              "      <td>67</td>\n",
              "      <td>23s0</td>\n",
              "      <td>2</td>\n",
              "      <td>I-YearOfPublication</td>\n",
              "    </tr>\n",
              "    <tr>\n",
              "      <th>55113</th>\n",
              "      <td>34</td>\n",
              "      <td>68</td>\n",
              "      <td>69</td>\n",
              "      <td>23s0</td>\n",
              "      <td>0</td>\n",
              "      <td>I-YearOfPublication</td>\n",
              "    </tr>\n",
              "    <tr>\n",
              "      <th>55114</th>\n",
              "      <td>35</td>\n",
              "      <td>70</td>\n",
              "      <td>71</td>\n",
              "      <td>23s0</td>\n",
              "      <td>1</td>\n",
              "      <td>I-YearOfPublication</td>\n",
              "    </tr>\n",
              "    <tr>\n",
              "      <th>55115</th>\n",
              "      <td>36</td>\n",
              "      <td>72</td>\n",
              "      <td>73</td>\n",
              "      <td>23s0</td>\n",
              "      <td>5</td>\n",
              "      <td>I-YearOfPublication</td>\n",
              "    </tr>\n",
              "    <tr>\n",
              "      <th>82950</th>\n",
              "      <td>11</td>\n",
              "      <td>91</td>\n",
              "      <td>92</td>\n",
              "      <td>30s3</td>\n",
              "      <td>:</td>\n",
              "      <td>I-YearOfPublication</td>\n",
              "    </tr>\n",
              "  </tbody>\n",
              "</table>\n",
              "</div>"
            ],
            "text/plain": [
              "       index  begin  end    id text           whiteSpace\n",
              "55112     33     66   67  23s0    2  I-YearOfPublication\n",
              "55113     34     68   69  23s0    0  I-YearOfPublication\n",
              "55114     35     70   71  23s0    1  I-YearOfPublication\n",
              "55115     36     72   73  23s0    5  I-YearOfPublication\n",
              "82950     11     91   92  30s3    :  I-YearOfPublication"
            ]
          },
          "metadata": {
            "tags": []
          },
          "execution_count": 115
        }
      ]
    },
    {
      "cell_type": "code",
      "metadata": {
        "id": "CGGenNwqYBHS",
        "colab_type": "code",
        "colab": {}
      },
      "source": [
        "final_df.loc[(final_df.text=='ibuprofen')|\n",
        "         (final_df.text=='olanzapine')|\n",
        "         (final_df.text=='clozapine')|\n",
        "         (final_df.text=='fluoxetine')|\n",
        "         (final_df.text=='atorvastatin')|\n",
        "         (final_df.text=='quetiapine'),'whiteSpace']='I-SuspectedProductName'\n",
        "\n",
        "#final_df.loc[(final_df.whiteSpace=='I-ReportedIndication')&\n",
        "#         (final_df['text'].isin(['a','from','be','with','(',')',\n",
        "#                                 'management','of','other','and','the','to','in'])),'whiteSpace']='O'"
      ],
      "execution_count": 0,
      "outputs": []
    },
    {
      "cell_type": "code",
      "metadata": {
        "id": "qykslV_wt1Nx",
        "colab_type": "code",
        "colab": {}
      },
      "source": [
        "final_df.drop(\"index\", axis=1, inplace=True)\n",
        "final_df.drop(\"begin\", axis=1, inplace=True)\n",
        "final_df.drop(\"end\", axis=1, inplace=True)"
      ],
      "execution_count": 0,
      "outputs": []
    },
    {
      "cell_type": "code",
      "metadata": {
        "id": "xg_2lq3Tu2dV",
        "colab_type": "code",
        "colab": {}
      },
      "source": [
        "final_df.columns = ['doc_id', 'words','tags']"
      ],
      "execution_count": 0,
      "outputs": []
    },
    {
      "cell_type": "code",
      "metadata": {
        "id": "YseIbnHH3nF2",
        "colab_type": "code",
        "outputId": "febea3a0-3083-430d-e95d-c24e5bb5120a",
        "colab": {
          "base_uri": "https://localhost:8080/",
          "height": 204
        }
      },
      "source": [
        "final_df['doc_id1'], _ = final_df['doc_id'].str.split('s', 1).str\n",
        "cols = ['doc_id', 'doc_id1','words','tags']\n",
        "final_df = final_df[cols]\n",
        "final_df.head()"
      ],
      "execution_count": 0,
      "outputs": [
        {
          "output_type": "execute_result",
          "data": {
            "text/html": [
              "<div>\n",
              "<style scoped>\n",
              "    .dataframe tbody tr th:only-of-type {\n",
              "        vertical-align: middle;\n",
              "    }\n",
              "\n",
              "    .dataframe tbody tr th {\n",
              "        vertical-align: top;\n",
              "    }\n",
              "\n",
              "    .dataframe thead th {\n",
              "        text-align: right;\n",
              "    }\n",
              "</style>\n",
              "<table border=\"1\" class=\"dataframe\">\n",
              "  <thead>\n",
              "    <tr style=\"text-align: right;\">\n",
              "      <th></th>\n",
              "      <th>doc_id</th>\n",
              "      <th>doc_id1</th>\n",
              "      <th>words</th>\n",
              "      <th>tags</th>\n",
              "    </tr>\n",
              "  </thead>\n",
              "  <tbody>\n",
              "    <tr>\n",
              "      <th>0</th>\n",
              "      <td>13s0</td>\n",
              "      <td>13</td>\n",
              "      <td>Short</td>\n",
              "      <td>O</td>\n",
              "    </tr>\n",
              "    <tr>\n",
              "      <th>1</th>\n",
              "      <td>13s0</td>\n",
              "      <td>13</td>\n",
              "      <td>Communication</td>\n",
              "      <td>O</td>\n",
              "    </tr>\n",
              "    <tr>\n",
              "      <th>2</th>\n",
              "      <td>13s1</td>\n",
              "      <td>13</td>\n",
              "      <td>Atorvastatin</td>\n",
              "      <td>I-ArticleTitle</td>\n",
              "    </tr>\n",
              "    <tr>\n",
              "      <th>3</th>\n",
              "      <td>13s1</td>\n",
              "      <td>13</td>\n",
              "      <td>Induced</td>\n",
              "      <td>I-ArticleTitle</td>\n",
              "    </tr>\n",
              "    <tr>\n",
              "      <th>4</th>\n",
              "      <td>13s1</td>\n",
              "      <td>13</td>\n",
              "      <td>Vasculitis</td>\n",
              "      <td>I-ArticleTitle</td>\n",
              "    </tr>\n",
              "  </tbody>\n",
              "</table>\n",
              "</div>"
            ],
            "text/plain": [
              "  doc_id doc_id1          words            tags\n",
              "0   13s0      13          Short               O\n",
              "1   13s0      13  Communication               O\n",
              "2   13s1      13   Atorvastatin  I-ArticleTitle\n",
              "3   13s1      13        Induced  I-ArticleTitle\n",
              "4   13s1      13     Vasculitis  I-ArticleTitle"
            ]
          },
          "metadata": {
            "tags": []
          },
          "execution_count": 95
        }
      ]
    },
    {
      "cell_type": "code",
      "metadata": {
        "id": "8XjUgztrupDg",
        "colab_type": "code",
        "colab": {}
      },
      "source": [
        "import random\n",
        "random.seed( 30 )\n",
        "\n",
        "lst=list(range(50))\n",
        "random.shuffle(lst)\n",
        "trn_lst=lst[0:int(len(lst)*0.6)]\n",
        "val_lst=lst[int(len(lst)*0.6):int(len(lst)*0.8)]\n",
        "tst_lst=lst[int(len(lst)*0.8):]\n",
        "\n",
        "\n",
        "trn_lst = list( map(str, trn_lst) )\n",
        "val_lst = list( map(str, val_lst) )\n",
        "tst_lst = list( map(str, tst_lst) )\n",
        "\n",
        "\n",
        "train=final_df[(final_df.doc_id1.isin(trn_lst))]\n",
        "valid=final_df[(final_df.doc_id1.isin(val_lst))]\n",
        "test=final_df[(final_df.doc_id1.isin(tst_lst))]\n",
        "\n",
        "#train[['words','tags']].to_csv('train.txt',index=False, sep='\\t',header=False)\n",
        "#valid[['words','tags']].to_csv('dev.txt',index=False, sep='\\t',header=False)\n",
        "#test[['words','tags']].to_csv('test.txt',index=False, sep='\\t',header=False)"
      ],
      "execution_count": 0,
      "outputs": []
    },
    {
      "cell_type": "code",
      "metadata": {
        "id": "q7WJzjl4GVwm",
        "colab_type": "code",
        "colab": {}
      },
      "source": [
        "docs=['9','20','24','39','44']\n",
        "test=final_df[(final_df.doc_id1.isin(docs))]\n",
        "train=final_df[~(final_df.doc_id1.isin(docs))]"
      ],
      "execution_count": 0,
      "outputs": []
    },
    {
      "cell_type": "code",
      "metadata": {
        "id": "210PIOjIboYW",
        "colab_type": "code",
        "colab": {}
      },
      "source": [
        "#!git clone https://github.com/Hironsan/anago.git"
      ],
      "execution_count": 0,
      "outputs": []
    },
    {
      "cell_type": "code",
      "metadata": {
        "id": "bQp_exeZYRVu",
        "colab_type": "code",
        "colab": {}
      },
      "source": [
        ""
      ],
      "execution_count": 0,
      "outputs": []
    },
    {
      "cell_type": "code",
      "metadata": {
        "id": "p2ZTICRnyuq_",
        "colab_type": "code",
        "colab": {}
      },
      "source": [
        "from tqdm import tqdm, trange\n",
        "\n",
        "class SentenceGetter(object):\n",
        "    \n",
        "    def __init__(self, data):\n",
        "        self.n_sent = 1\n",
        "        self.data = data\n",
        "        self.empty = False\n",
        "        agg_func = lambda s: [(w, t) for w, t in zip(s[\"words\"].values.tolist(),\n",
        "                                                           s[\"tags\"].values.tolist())]\n",
        "        self.grouped = self.data.groupby(\"doc_id\").apply(agg_func)\n",
        "        self.sentences = [s for s in self.grouped]\n",
        "    \n",
        "    def get_next(self):\n",
        "        try:\n",
        "            s = self.grouped[\"Sentence: {}\".format(self.n_sent)]\n",
        "            self.n_sent += 1\n",
        "            return s\n",
        "        except:\n",
        "            return None"
      ],
      "execution_count": 0,
      "outputs": []
    },
    {
      "cell_type": "code",
      "metadata": {
        "id": "2r_pp2BgzIuT",
        "colab_type": "code",
        "outputId": "05d50dae-1ba6-4d3e-a9eb-e4db4240104c",
        "colab": {
          "base_uri": "https://localhost:8080/",
          "height": 85
        }
      },
      "source": [
        "import nltk\n",
        "nltk.download('averaged_perceptron_tagger')\n",
        "\n",
        "def get_sent(final_df):\n",
        "  getter = SentenceGetter(final_df)\n",
        "  data = []\n",
        "  for i, doc in enumerate(getter.sentences):\n",
        "\n",
        "      # Obtain the list of tokens in the document\n",
        "      tokens = [t for t, tags in doc]\n",
        "\n",
        "      # Perform POS tagging\n",
        "      tagged = nltk.pos_tag(tokens)\n",
        "\n",
        "      # Take the word, POS tag, and its label\n",
        "      data.append([(w, pos, label) for (w, label), (word, pos) in zip(doc, tagged)])\n",
        "  return data"
      ],
      "execution_count": 0,
      "outputs": [
        {
          "output_type": "stream",
          "text": [
            "[nltk_data] Downloading package averaged_perceptron_tagger to\n",
            "[nltk_data]     /root/nltk_data...\n",
            "[nltk_data]   Package averaged_perceptron_tagger is already up-to-\n",
            "[nltk_data]       date!\n"
          ],
          "name": "stdout"
        }
      ]
    },
    {
      "cell_type": "code",
      "metadata": {
        "id": "XS3hy7TILdmp",
        "colab_type": "code",
        "colab": {}
      },
      "source": [
        "train_sent=get_sent(train)\n",
        "test_sent=get_sent(test)"
      ],
      "execution_count": 0,
      "outputs": []
    },
    {
      "cell_type": "code",
      "metadata": {
        "id": "Ixd2TXP_zKSu",
        "colab_type": "code",
        "colab": {}
      },
      "source": [
        "def word2features(doc, i):\n",
        "    word = doc[i][0]\n",
        "    postag = doc[i][1]\n",
        "\n",
        "    # Common features for all words\n",
        "    features = [\n",
        "        'bias',\n",
        "        'word.lower=' + word.lower(),\n",
        "        'word[-3:]=' + word[-3:],\n",
        "        'word[-2:]=' + word[-2:],\n",
        "        'word.isupper=%s' % word.isupper(),\n",
        "        'word.istitle=%s' % word.istitle(),\n",
        "        'word.isdigit=%s' % word.isdigit(),\n",
        "        'postag=' + postag\n",
        "    ]\n",
        "\n",
        "    # Features for words that are not\n",
        "    # at the beginning of a document\n",
        "    if i > 0:\n",
        "        word1 = doc[i-1][0]\n",
        "        postag1 = doc[i-1][1]\n",
        "        features.extend([\n",
        "            '-1:word.lower=' + word1.lower(),\n",
        "            '-1:word.istitle=%s' % word1.istitle(),\n",
        "            '-1:word.isupper=%s' % word1.isupper(),\n",
        "            '-1:word.isdigit=%s' % word1.isdigit(),\n",
        "            '-1:postag=' + postag1\n",
        "        ])\n",
        "    else:\n",
        "        # Indicate that it is the 'beginning of a document'\n",
        "        features.append('BOS')\n",
        "\n",
        "    # Features for words that are not\n",
        "    # at the end of a document\n",
        "    if i < len(doc)-1:\n",
        "        word1 = doc[i+1][0]\n",
        "        postag1 = doc[i+1][1]\n",
        "        features.extend([\n",
        "            '+1:word.lower=' + word1.lower(),\n",
        "            '+1:word.istitle=%s' % word1.istitle(),\n",
        "            '+1:word.isupper=%s' % word1.isupper(),\n",
        "            '+1:word.isdigit=%s' % word1.isdigit(),\n",
        "            '+1:postag=' + postag1\n",
        "        ])\n",
        "    else:\n",
        "        # Indicate that it is the 'end of a document'\n",
        "        features.append('EOS')\n",
        "\n",
        "    return features"
      ],
      "execution_count": 0,
      "outputs": []
    },
    {
      "cell_type": "code",
      "metadata": {
        "id": "M-rosKTnzRZs",
        "colab_type": "code",
        "colab": {}
      },
      "source": [
        "#from sklearn.model_selection import train_test_split\n",
        "\n",
        "# A function for extracting features in documents\n",
        "def extract_features(doc):\n",
        "    return [word2features(doc, i) for i in range(len(doc))]\n",
        "\n",
        "# A function fo generating the list of labels for each document\n",
        "def get_labels(doc):\n",
        "    return [label for (token, postag, label) in doc]\n",
        "\n",
        "X_train = [extract_features(doc) for doc in train_sent]\n",
        "X_test = [extract_features(doc) for doc in test_sent]\n",
        "\n",
        "y_train = [get_labels(doc) for doc in train_sent]\n",
        "y_test = [get_labels(doc) for doc in test_sent]\n",
        "\n",
        "#X_train, X_test, y_train, y_test = train_test_split(X, y, test_size=0.2)"
      ],
      "execution_count": 0,
      "outputs": []
    },
    {
      "cell_type": "code",
      "metadata": {
        "id": "5-nrI9qRZ2yg",
        "colab_type": "code",
        "colab": {}
      },
      "source": [
        "def create_list_of_list(b,c):\n",
        " a=[]\n",
        " for j in range(len(b[0])):\n",
        "   lst=''\n",
        "   for i in b[j]:\n",
        "    lst=lst+i[c]+\"|\"\n",
        "   a.append(list((lst[:-1]).split(\"|\")))  \n",
        " return a \n",
        " "
      ],
      "execution_count": 0,
      "outputs": []
    },
    {
      "cell_type": "code",
      "metadata": {
        "id": "ET5AhrgVcP6j",
        "colab_type": "code",
        "colab": {}
      },
      "source": [
        "x_train=create_list_of_list(train_sent,0)\n",
        "y_train=create_list_of_list(train_sent,2)\n",
        "x_test=create_list_of_list(test_sent,0)\n",
        "y_test=create_list_of_list(test_sent,2)"
      ],
      "execution_count": 0,
      "outputs": []
    },
    {
      "cell_type": "code",
      "metadata": {
        "id": "5nNP8PEhp3gK",
        "colab_type": "code",
        "colab": {}
      },
      "source": [
        "train_sent=get_sent(train)\n",
        "test_sent=get_sent(test)\n",
        "valid_sent=get_sent(valid)\n",
        "\n",
        "def tuple_list_to_dataframe(b):\n",
        " a = pd.DataFrame()\n",
        " for i in range(len(b)):\n",
        "   a=pd.concat([a,pd.DataFrame(b[i])])\n",
        " \n",
        " return a\n",
        "  \n",
        "  \n",
        "train=tuple_list_to_dataframe(train_sent)\n",
        "test=tuple_list_to_dataframe(test_sent)\n",
        "valid=tuple_list_to_dataframe(valid_sent)"
      ],
      "execution_count": 0,
      "outputs": []
    },
    {
      "cell_type": "code",
      "metadata": {
        "id": "Yc99NmUM3Eaa",
        "colab_type": "code",
        "colab": {}
      },
      "source": [
        ""
      ],
      "execution_count": 0,
      "outputs": []
    },
    {
      "cell_type": "code",
      "metadata": {
        "id": "VNflZIePtb7D",
        "colab_type": "code",
        "colab": {}
      },
      "source": [
        "train.to_csv('train.txt',index=False, sep=' ',header=False)\n",
        "valid.to_csv('dev.txt',index=False, sep=' ',header=False)\n",
        "test.to_csv('test.txt',index=False, sep=' ',header=False)\n",
        "\n",
        "##import numpy as np\n",
        "#np.savetxt(\"train.csv\", train_sent, delimiter=\",\", fmt='%s')\n",
        "#print(train)"
      ],
      "execution_count": 0,
      "outputs": []
    },
    {
      "cell_type": "code",
      "metadata": {
        "id": "HPUId7J2vY4I",
        "colab_type": "code",
        "colab": {}
      },
      "source": [
        "!sed -i 's/\\. \\. O/\\. \\. O\\n\\n/g' train.txt\n",
        "!sed -i 's/\\. \\. O/\\. \\. O\\n\\n/g' dev.txt\n",
        "!sed -i 's/\\. \\. O/\\. \\. O\\n\\n/g' test.txt"
      ],
      "execution_count": 0,
      "outputs": []
    },
    {
      "cell_type": "code",
      "metadata": {
        "id": "LEMMupOhzTZw",
        "colab_type": "code",
        "outputId": "8f547981-443b-4996-aab7-0cc8c5ea2c6b",
        "colab": {
          "base_uri": "https://localhost:8080/",
          "height": 34
        }
      },
      "source": [
        "!pip install python-crfsuite"
      ],
      "execution_count": 0,
      "outputs": [
        {
          "output_type": "stream",
          "text": [
            "Requirement already satisfied: python-crfsuite in /usr/local/lib/python3.6/dist-packages (0.9.6)\n"
          ],
          "name": "stdout"
        }
      ]
    },
    {
      "cell_type": "code",
      "metadata": {
        "id": "3E0iflxDzUg8",
        "colab_type": "code",
        "colab": {}
      },
      "source": [
        "import pycrfsuite\n",
        "trainer = pycrfsuite.Trainer(verbose=False)\n",
        "\n",
        "# Submit training data to the trainer\n",
        "for xseq, yseq in zip(X_train, y_train):\n",
        "    trainer.append(xseq, yseq)\n",
        "\n",
        "# Set the parameters of the model\n",
        "trainer.set_params({\n",
        "    # coefficient for L1 penalty\n",
        "    'c1': 0.1,\n",
        "\n",
        "    # coefficient for L2 penalty\n",
        "    'c2': 0.01,  \n",
        "\n",
        "    # maximum number of iterations\n",
        "    'max_iterations': 200,\n",
        "\n",
        "    # whether to include transitions that\n",
        "    # are possible, but not observed\n",
        "    'feature.possible_transitions': True\n",
        "})\n",
        "\n",
        "# Provide a file name as a parameter to the train function, such that\n",
        "# the model will be saved to the file when training is finished\n",
        "trainer.train('crf.model')\n"
      ],
      "execution_count": 0,
      "outputs": []
    },
    {
      "cell_type": "code",
      "metadata": {
        "id": "_7V27fxZzXCY",
        "colab_type": "code",
        "outputId": "0b37f8c2-2073-4a8e-9d04-0b3ec90eaf54",
        "colab": {
          "base_uri": "https://localhost:8080/",
          "height": 323
        }
      },
      "source": [
        "tagger = pycrfsuite.Tagger()\n",
        "tagger.open('crf.model')\n",
        "y_pred = [tagger.tag(xseq) for xseq in X_test]\n",
        "\n",
        "# Let's take a look at a random sample in the testing set\n",
        "i = 12\n",
        "for x, y in zip(y_pred[i], [x[1].split(\"=\")[1] for x in X_test[i]]):\n",
        "    print(\"%s (%s)\" % (y, x))"
      ],
      "execution_count": 0,
      "outputs": [
        {
          "output_type": "stream",
          "text": [
            "atorvastatin (O)\n",
            "- (O)\n",
            "induced (O)\n",
            "pancreatitis (O)\n",
            "samir (O)\n",
            "prajapati (O)\n",
            ", (O)\n",
            "samidh (O)\n",
            "shah (O)\n",
            ", (O)\n",
            "chetna (I-ReporterAddress)\n",
            "desai (I-ReporterAddress)\n",
            ", (I-ReporterAddress)\n",
            "mira (I-ReporterAddress)\n",
            "desai (I-ReporterAddress)\n",
            ", (O)\n",
            "r.k. (O)\n",
            "dikshit (O)\n"
          ],
          "name": "stdout"
        }
      ]
    },
    {
      "cell_type": "code",
      "metadata": {
        "id": "DfPWelMEzbCx",
        "colab_type": "code",
        "colab": {}
      },
      "source": [
        "import numpy as np\n",
        "from sklearn.metrics import classification_report\n",
        "\n",
        "# Create a mapping of labels to indices\n",
        "tags_vals = list(set(final_df[\"tags\"].values))\n",
        "labels = {t: i for i, t in enumerate(tags_vals)}\n",
        "# Convert the sequences of tags into a 1-dimensional array\n",
        "predictions = np.array([labels[tag] for row in y_pred for tag in row])\n",
        "truths = np.array([labels[tag] for row in y_test for tag in row])"
      ],
      "execution_count": 0,
      "outputs": []
    },
    {
      "cell_type": "code",
      "metadata": {
        "id": "GP8euwbu0WrT",
        "colab_type": "code",
        "colab": {}
      },
      "source": [
        "a=tags_vals"
      ],
      "execution_count": 0,
      "outputs": []
    },
    {
      "cell_type": "code",
      "metadata": {
        "id": "BhFALYmN0ArI",
        "colab_type": "code",
        "outputId": "084cdc9a-cfff-44e0-f843-fa0fbd244c2d",
        "colab": {
          "base_uri": "https://localhost:8080/",
          "height": 459
        }
      },
      "source": [
        "print(classification_report(truths, predictions,target_names=a))"
      ],
      "execution_count": 0,
      "outputs": [
        {
          "output_type": "stream",
          "text": [
            "                        precision    recall  f1-score   support\n",
            "\n",
            "       I-ReporterMName       0.00      0.00      0.00         2\n",
            "     I-ReporterCountry       0.88      0.70      0.78        10\n",
            "       I-ReporterFName       0.43      0.15      0.22        20\n",
            "  I-ReporterDepartment       0.63      0.87      0.73        30\n",
            "    I-AgeUnitOfPatient       1.00      0.92      0.96        13\n",
            "         I-JournalName       0.91      0.26      0.41        38\n",
            "        I-ReporterCity       0.33      0.05      0.09        19\n",
            "  I-ReportedIndication       0.07      0.03      0.05        30\n",
            "I-SuspectedProductName       0.95      0.96      0.96        82\n",
            "        I-ArticleTitle       0.69      0.67      0.68        54\n",
            " I-VolumeOfPublication       1.00      0.30      0.47        23\n",
            "     I-ReporterAddress       0.30      0.15      0.20        20\n",
            "I-ReporterEmailAddress       1.00      0.90      0.95        10\n",
            " I-ReporterInstitution       0.70      0.80      0.75        35\n",
            "        I-AgeOfPatient       1.00      0.54      0.70        13\n",
            "                     O       0.98      0.99      0.99      8517\n",
            "     I-GenderOfPatient       1.00      0.77      0.87        13\n",
            "   I-YearOfPublication       0.00      0.00      0.00         8\n",
            "       I-ReporterLName       0.86      0.22      0.35        27\n",
            "\n",
            "             micro avg       0.97      0.97      0.97      8964\n",
            "             macro avg       0.67      0.49      0.53      8964\n",
            "          weighted avg       0.97      0.97      0.97      8964\n",
            "\n"
          ],
          "name": "stdout"
        }
      ]
    },
    {
      "cell_type": "code",
      "metadata": {
        "id": "CPjiQwcPJf6J",
        "colab_type": "code",
        "colab": {}
      },
      "source": [
        "from sklearn.metrics import confusion_matrix\n",
        "cm=confusion_matrix(truths, predictions)"
      ],
      "execution_count": 0,
      "outputs": []
    },
    {
      "cell_type": "code",
      "metadata": {
        "id": "wzfySQ-XLCZK",
        "colab_type": "code",
        "outputId": "f6a20f6d-ce6f-4463-a74e-073a42d37c74",
        "colab": {
          "base_uri": "https://localhost:8080/",
          "height": 822
        }
      },
      "source": [
        "import seaborn as sn\n",
        "import pandas as pd\n",
        "import matplotlib.pyplot as plt\n",
        "        \n",
        "df_cm = pd.DataFrame(cm, a, a)\n",
        "plt.figure(figsize = (12,10))\n",
        "sn.set(font_scale=1.4)#for label size\n",
        "sn.heatmap(df_cm, annot=True,annot_kws={\"size\": 12})# font size"
      ],
      "execution_count": 0,
      "outputs": [
        {
          "output_type": "execute_result",
          "data": {
            "text/plain": [
              "<matplotlib.axes._subplots.AxesSubplot at 0x7f02e6aafba8>"
            ]
          },
          "metadata": {
            "tags": []
          },
          "execution_count": 95
        },
        {
          "output_type": "display_data",
          "data": {
            "image/png": "[encoded data removed]",
            "text/plain": [
              "<Figure size 864x720 with 2 Axes>"
            ]
          },
          "metadata": {
            "tags": []
          }
        }
      ]
    },
    {
      "cell_type": "code",
      "metadata": {
        "id": "LJKI4B5wPGuY",
        "colab_type": "code",
        "outputId": "313329a6-f99a-42ec-fa71-244f48f360be",
        "colab": {
          "base_uri": "https://localhost:8080/",
          "height": 122
        }
      },
      "source": [
        "!pip install sklearn_crfsuite"
      ],
      "execution_count": 0,
      "outputs": [
        {
          "output_type": "stream",
          "text": [
            "Requirement already satisfied: sklearn_crfsuite in /usr/local/lib/python3.6/dist-packages (0.3.6)\n",
            "Requirement already satisfied: tabulate in /usr/local/lib/python3.6/dist-packages (from sklearn_crfsuite) (0.8.3)\n",
            "Requirement already satisfied: python-crfsuite>=0.8.3 in /usr/local/lib/python3.6/dist-packages (from sklearn_crfsuite) (0.9.6)\n",
            "Requirement already satisfied: tqdm>=2.0 in /usr/local/lib/python3.6/dist-packages (from sklearn_crfsuite) (4.28.1)\n",
            "Requirement already satisfied: six in /usr/local/lib/python3.6/dist-packages (from sklearn_crfsuite) (1.12.0)\n"
          ],
          "name": "stdout"
        }
      ]
    },
    {
      "cell_type": "code",
      "metadata": {
        "id": "vej2pvSkLheQ",
        "colab_type": "code",
        "outputId": "b0580cbd-196a-44a4-f111-38a6ae79b4c9",
        "colab": {
          "base_uri": "https://localhost:8080/",
          "height": 170
        }
      },
      "source": [
        "import sklearn_crfsuite\n",
        "from sklearn_crfsuite import metrics\n",
        "\n",
        "\n",
        "crf = sklearn_crfsuite.CRF(\n",
        "    algorithm='lbfgs',\n",
        "    c1=0.1,\n",
        "    c2=0.05,\n",
        "    max_iterations=200,\n",
        "    all_possible_transitions=True\n",
        ")\n",
        "crf.fit(X_train, y_train)"
      ],
      "execution_count": 0,
      "outputs": [
        {
          "output_type": "execute_result",
          "data": {
            "text/plain": [
              "CRF(algorithm='lbfgs', all_possible_states=None,\n",
              "  all_possible_transitions=True, averaging=None, c=None, c1=0.1, c2=0.05,\n",
              "  calibration_candidates=None, calibration_eta=None,\n",
              "  calibration_max_trials=None, calibration_rate=None,\n",
              "  calibration_samples=None, delta=None, epsilon=None, error_sensitive=None,\n",
              "  gamma=None, keep_tempfiles=None, linesearch=None, max_iterations=200,\n",
              "  max_linesearch=None, min_freq=None, model_filename=None,\n",
              "  num_memories=None, pa_type=None, period=None, trainer_cls=None,\n",
              "  variance=None, verbose=False)"
            ]
          },
          "metadata": {
            "tags": []
          },
          "execution_count": 23
        }
      ]
    },
    {
      "cell_type": "code",
      "metadata": {
        "id": "-LuOHkviOXR8",
        "colab_type": "code",
        "outputId": "b72aed50-bebb-4c02-b177-1cd2c217b536",
        "colab": {
          "base_uri": "https://localhost:8080/",
          "height": 442
        }
      },
      "source": [
        "y_pred = crf.predict(X_test)\n",
        "labels = list(crf.classes_)\n",
        "labels.remove('O') # remove 'O' label from evaluation\n",
        "sorted_labels = sorted(labels,key=lambda name: (name[1:], name[0])) # group B and I results\n",
        "print(sklearn_crfsuite.metrics.flat_classification_report(y_test, y_pred, labels=sorted_labels, digits=3))"
      ],
      "execution_count": 0,
      "outputs": [
        {
          "output_type": "stream",
          "text": [
            "                        precision    recall  f1-score   support\n",
            "\n",
            "        I-AgeOfPatient      1.000     0.538     0.700        13\n",
            "    I-AgeUnitOfPatient      1.000     0.923     0.960        13\n",
            "        I-ArticleTitle      0.686     0.648     0.667        54\n",
            "     I-GenderOfPatient      1.000     0.769     0.870        13\n",
            "         I-JournalName      1.000     0.211     0.348        38\n",
            "  I-ReportedIndication      0.333     0.067     0.111        30\n",
            "     I-ReporterAddress      1.000     0.150     0.261        20\n",
            "        I-ReporterCity      0.500     0.105     0.174        19\n",
            "     I-ReporterCountry      0.889     0.800     0.842        10\n",
            "  I-ReporterDepartment      0.667     0.867     0.754        30\n",
            "I-ReporterEmailAddress      1.000     0.900     0.947        10\n",
            "       I-ReporterFName      0.429     0.150     0.222        20\n",
            " I-ReporterInstitution      0.857     0.686     0.762        35\n",
            "       I-ReporterLName      0.857     0.222     0.353        27\n",
            "       I-ReporterMName      0.000     0.000     0.000         2\n",
            "I-SuspectedProductName      0.963     0.963     0.963        82\n",
            " I-VolumeOfPublication      1.000     0.304     0.467        23\n",
            "   I-YearOfPublication      0.400     0.250     0.308         8\n",
            "\n",
            "             micro avg      0.815     0.544     0.652       447\n",
            "             macro avg      0.755     0.475     0.539       447\n",
            "          weighted avg      0.804     0.544     0.598       447\n",
            "\n"
          ],
          "name": "stdout"
        }
      ]
    },
    {
      "cell_type": "code",
      "metadata": {
        "id": "oB73TwyxOrnd",
        "colab_type": "code",
        "outputId": "77f90167-64e7-4ba4-8b93-34d728c55324",
        "colab": {
          "base_uri": "https://localhost:8080/",
          "height": 374
        }
      },
      "source": [
        "import scipy\n",
        "from sklearn.metrics import make_scorer\n",
        "from sklearn.model_selection import RandomizedSearchCV\n",
        "\n",
        "\n",
        "crf = sklearn_crfsuite.CRF(\n",
        "    algorithm='lbfgs',\n",
        "    max_iterations=100,\n",
        "    all_possible_transitions=True\n",
        ")\n",
        "params_space = {\n",
        "    'c1': scipy.stats.expon(scale=0.5),\n",
        "    'c2': scipy.stats.expon(scale=0.05),\n",
        "}\n",
        "\n",
        "# use the same metric for evaluation\n",
        "f1_scorer = make_scorer(metrics.flat_f1_score,\n",
        "                        average='weighted', labels=labels)\n",
        "\n",
        "# search\n",
        "rs = RandomizedSearchCV(crf, params_space,\n",
        "                        cv=3,\n",
        "                        verbose=1,\n",
        "                        n_jobs=-1,\n",
        "                        n_iter=50,\n",
        "                        scoring=f1_scorer)\n",
        "rs.fit(X_train, y_train)\n"
      ],
      "execution_count": 0,
      "outputs": [
        {
          "output_type": "stream",
          "text": [
            "Fitting 3 folds for each of 50 candidates, totalling 150 fits\n"
          ],
          "name": "stdout"
        },
        {
          "output_type": "stream",
          "text": [
            "[Parallel(n_jobs=-1)]: Using backend LokyBackend with 2 concurrent workers.\n"
          ],
          "name": "stderr"
        },
        {
          "output_type": "error",
          "ename": "KeyboardInterrupt",
          "evalue": "ignored",
          "traceback": [
            "\u001b[0;31m---------------------------------------------------------------------------\u001b[0m",
            "\u001b[0;31mKeyboardInterrupt\u001b[0m                         Traceback (most recent call last)",
            "\u001b[0;32m<ipython-input-25-ebcde04d08bd>\u001b[0m in \u001b[0;36m<module>\u001b[0;34m()\u001b[0m\n\u001b[1;32m     25\u001b[0m                         \u001b[0mn_iter\u001b[0m\u001b[0;34m=\u001b[0m\u001b[0;36m50\u001b[0m\u001b[0;34m,\u001b[0m\u001b[0;34m\u001b[0m\u001b[0;34m\u001b[0m\u001b[0m\n\u001b[1;32m     26\u001b[0m                         scoring=f1_scorer)\n\u001b[0;32m---> 27\u001b[0;31m \u001b[0mrs\u001b[0m\u001b[0;34m.\u001b[0m\u001b[0mfit\u001b[0m\u001b[0;34m(\u001b[0m\u001b[0mX_train\u001b[0m\u001b[0;34m,\u001b[0m \u001b[0my_train\u001b[0m\u001b[0;34m)\u001b[0m\u001b[0;34m\u001b[0m\u001b[0;34m\u001b[0m\u001b[0m\n\u001b[0m",
            "\u001b[0;32m/usr/local/lib/python3.6/dist-packages/sklearn/model_selection/_search.py\u001b[0m in \u001b[0;36mfit\u001b[0;34m(self, X, y, groups, **fit_params)\u001b[0m\n\u001b[1;32m    720\u001b[0m                 \u001b[0;32mreturn\u001b[0m \u001b[0mresults_container\u001b[0m\u001b[0;34m[\u001b[0m\u001b[0;36m0\u001b[0m\u001b[0;34m]\u001b[0m\u001b[0;34m\u001b[0m\u001b[0;34m\u001b[0m\u001b[0m\n\u001b[1;32m    721\u001b[0m \u001b[0;34m\u001b[0m\u001b[0m\n\u001b[0;32m--> 722\u001b[0;31m             \u001b[0mself\u001b[0m\u001b[0;34m.\u001b[0m\u001b[0m_run_search\u001b[0m\u001b[0;34m(\u001b[0m\u001b[0mevaluate_candidates\u001b[0m\u001b[0;34m)\u001b[0m\u001b[0;34m\u001b[0m\u001b[0;34m\u001b[0m\u001b[0m\n\u001b[0m\u001b[1;32m    723\u001b[0m \u001b[0;34m\u001b[0m\u001b[0m\n\u001b[1;32m    724\u001b[0m         \u001b[0mresults\u001b[0m \u001b[0;34m=\u001b[0m \u001b[0mresults_container\u001b[0m\u001b[0;34m[\u001b[0m\u001b[0;36m0\u001b[0m\u001b[0;34m]\u001b[0m\u001b[0;34m\u001b[0m\u001b[0;34m\u001b[0m\u001b[0m\n",
            "\u001b[0;32m/usr/local/lib/python3.6/dist-packages/sklearn/model_selection/_search.py\u001b[0m in \u001b[0;36m_run_search\u001b[0;34m(self, evaluate_candidates)\u001b[0m\n\u001b[1;32m   1513\u001b[0m         evaluate_candidates(ParameterSampler(\n\u001b[1;32m   1514\u001b[0m             \u001b[0mself\u001b[0m\u001b[0;34m.\u001b[0m\u001b[0mparam_distributions\u001b[0m\u001b[0;34m,\u001b[0m \u001b[0mself\u001b[0m\u001b[0;34m.\u001b[0m\u001b[0mn_iter\u001b[0m\u001b[0;34m,\u001b[0m\u001b[0;34m\u001b[0m\u001b[0;34m\u001b[0m\u001b[0m\n\u001b[0;32m-> 1515\u001b[0;31m             random_state=self.random_state))\n\u001b[0m",
            "\u001b[0;32m/usr/local/lib/python3.6/dist-packages/sklearn/model_selection/_search.py\u001b[0m in \u001b[0;36mevaluate_candidates\u001b[0;34m(candidate_params)\u001b[0m\n\u001b[1;32m    709\u001b[0m                                \u001b[0;32mfor\u001b[0m \u001b[0mparameters\u001b[0m\u001b[0;34m,\u001b[0m \u001b[0;34m(\u001b[0m\u001b[0mtrain\u001b[0m\u001b[0;34m,\u001b[0m \u001b[0mtest\u001b[0m\u001b[0;34m)\u001b[0m\u001b[0;34m\u001b[0m\u001b[0;34m\u001b[0m\u001b[0m\n\u001b[1;32m    710\u001b[0m                                in product(candidate_params,\n\u001b[0;32m--> 711\u001b[0;31m                                           cv.split(X, y, groups)))\n\u001b[0m\u001b[1;32m    712\u001b[0m \u001b[0;34m\u001b[0m\u001b[0m\n\u001b[1;32m    713\u001b[0m                 \u001b[0mall_candidate_params\u001b[0m\u001b[0;34m.\u001b[0m\u001b[0mextend\u001b[0m\u001b[0;34m(\u001b[0m\u001b[0mcandidate_params\u001b[0m\u001b[0;34m)\u001b[0m\u001b[0;34m\u001b[0m\u001b[0;34m\u001b[0m\u001b[0m\n",
            "\u001b[0;32m/usr/local/lib/python3.6/dist-packages/sklearn/externals/joblib/parallel.py\u001b[0m in \u001b[0;36m__call__\u001b[0;34m(self, iterable)\u001b[0m\n\u001b[1;32m    928\u001b[0m \u001b[0;34m\u001b[0m\u001b[0m\n\u001b[1;32m    929\u001b[0m             \u001b[0;32mwith\u001b[0m \u001b[0mself\u001b[0m\u001b[0;34m.\u001b[0m\u001b[0m_backend\u001b[0m\u001b[0;34m.\u001b[0m\u001b[0mretrieval_context\u001b[0m\u001b[0;34m(\u001b[0m\u001b[0;34m)\u001b[0m\u001b[0;34m:\u001b[0m\u001b[0;34m\u001b[0m\u001b[0;34m\u001b[0m\u001b[0m\n\u001b[0;32m--> 930\u001b[0;31m                 \u001b[0mself\u001b[0m\u001b[0;34m.\u001b[0m\u001b[0mretrieve\u001b[0m\u001b[0;34m(\u001b[0m\u001b[0;34m)\u001b[0m\u001b[0;34m\u001b[0m\u001b[0;34m\u001b[0m\u001b[0m\n\u001b[0m\u001b[1;32m    931\u001b[0m             \u001b[0;31m# Make sure that we get a last message telling us we are done\u001b[0m\u001b[0;34m\u001b[0m\u001b[0;34m\u001b[0m\u001b[0;34m\u001b[0m\u001b[0m\n\u001b[1;32m    932\u001b[0m             \u001b[0melapsed_time\u001b[0m \u001b[0;34m=\u001b[0m \u001b[0mtime\u001b[0m\u001b[0;34m.\u001b[0m\u001b[0mtime\u001b[0m\u001b[0;34m(\u001b[0m\u001b[0;34m)\u001b[0m \u001b[0;34m-\u001b[0m \u001b[0mself\u001b[0m\u001b[0;34m.\u001b[0m\u001b[0m_start_time\u001b[0m\u001b[0;34m\u001b[0m\u001b[0;34m\u001b[0m\u001b[0m\n",
            "\u001b[0;32m/usr/local/lib/python3.6/dist-packages/sklearn/externals/joblib/parallel.py\u001b[0m in \u001b[0;36mretrieve\u001b[0;34m(self)\u001b[0m\n\u001b[1;32m    831\u001b[0m             \u001b[0;32mtry\u001b[0m\u001b[0;34m:\u001b[0m\u001b[0;34m\u001b[0m\u001b[0;34m\u001b[0m\u001b[0m\n\u001b[1;32m    832\u001b[0m                 \u001b[0;32mif\u001b[0m \u001b[0mgetattr\u001b[0m\u001b[0;34m(\u001b[0m\u001b[0mself\u001b[0m\u001b[0;34m.\u001b[0m\u001b[0m_backend\u001b[0m\u001b[0;34m,\u001b[0m \u001b[0;34m'supports_timeout'\u001b[0m\u001b[0;34m,\u001b[0m \u001b[0;32mFalse\u001b[0m\u001b[0;34m)\u001b[0m\u001b[0;34m:\u001b[0m\u001b[0;34m\u001b[0m\u001b[0;34m\u001b[0m\u001b[0m\n\u001b[0;32m--> 833\u001b[0;31m                     \u001b[0mself\u001b[0m\u001b[0;34m.\u001b[0m\u001b[0m_output\u001b[0m\u001b[0;34m.\u001b[0m\u001b[0mextend\u001b[0m\u001b[0;34m(\u001b[0m\u001b[0mjob\u001b[0m\u001b[0;34m.\u001b[0m\u001b[0mget\u001b[0m\u001b[0;34m(\u001b[0m\u001b[0mtimeout\u001b[0m\u001b[0;34m=\u001b[0m\u001b[0mself\u001b[0m\u001b[0;34m.\u001b[0m\u001b[0mtimeout\u001b[0m\u001b[0;34m)\u001b[0m\u001b[0;34m)\u001b[0m\u001b[0;34m\u001b[0m\u001b[0;34m\u001b[0m\u001b[0m\n\u001b[0m\u001b[1;32m    834\u001b[0m                 \u001b[0;32melse\u001b[0m\u001b[0;34m:\u001b[0m\u001b[0;34m\u001b[0m\u001b[0;34m\u001b[0m\u001b[0m\n\u001b[1;32m    835\u001b[0m                     \u001b[0mself\u001b[0m\u001b[0;34m.\u001b[0m\u001b[0m_output\u001b[0m\u001b[0;34m.\u001b[0m\u001b[0mextend\u001b[0m\u001b[0;34m(\u001b[0m\u001b[0mjob\u001b[0m\u001b[0;34m.\u001b[0m\u001b[0mget\u001b[0m\u001b[0;34m(\u001b[0m\u001b[0;34m)\u001b[0m\u001b[0;34m)\u001b[0m\u001b[0;34m\u001b[0m\u001b[0;34m\u001b[0m\u001b[0m\n",
            "\u001b[0;32m/usr/local/lib/python3.6/dist-packages/sklearn/externals/joblib/_parallel_backends.py\u001b[0m in \u001b[0;36mwrap_future_result\u001b[0;34m(future, timeout)\u001b[0m\n\u001b[1;32m    519\u001b[0m         AsyncResults.get from multiprocessing.\"\"\"\n\u001b[1;32m    520\u001b[0m         \u001b[0;32mtry\u001b[0m\u001b[0;34m:\u001b[0m\u001b[0;34m\u001b[0m\u001b[0;34m\u001b[0m\u001b[0m\n\u001b[0;32m--> 521\u001b[0;31m             \u001b[0;32mreturn\u001b[0m \u001b[0mfuture\u001b[0m\u001b[0;34m.\u001b[0m\u001b[0mresult\u001b[0m\u001b[0;34m(\u001b[0m\u001b[0mtimeout\u001b[0m\u001b[0;34m=\u001b[0m\u001b[0mtimeout\u001b[0m\u001b[0;34m)\u001b[0m\u001b[0;34m\u001b[0m\u001b[0;34m\u001b[0m\u001b[0m\n\u001b[0m\u001b[1;32m    522\u001b[0m         \u001b[0;32mexcept\u001b[0m \u001b[0mLokyTimeoutError\u001b[0m\u001b[0;34m:\u001b[0m\u001b[0;34m\u001b[0m\u001b[0;34m\u001b[0m\u001b[0m\n\u001b[1;32m    523\u001b[0m             \u001b[0;32mraise\u001b[0m \u001b[0mTimeoutError\u001b[0m\u001b[0;34m(\u001b[0m\u001b[0;34m)\u001b[0m\u001b[0;34m\u001b[0m\u001b[0;34m\u001b[0m\u001b[0m\n",
            "\u001b[0;32m/usr/lib/python3.6/concurrent/futures/_base.py\u001b[0m in \u001b[0;36mresult\u001b[0;34m(self, timeout)\u001b[0m\n\u001b[1;32m    425\u001b[0m                 \u001b[0;32mreturn\u001b[0m \u001b[0mself\u001b[0m\u001b[0;34m.\u001b[0m\u001b[0m__get_result\u001b[0m\u001b[0;34m(\u001b[0m\u001b[0;34m)\u001b[0m\u001b[0;34m\u001b[0m\u001b[0;34m\u001b[0m\u001b[0m\n\u001b[1;32m    426\u001b[0m \u001b[0;34m\u001b[0m\u001b[0m\n\u001b[0;32m--> 427\u001b[0;31m             \u001b[0mself\u001b[0m\u001b[0;34m.\u001b[0m\u001b[0m_condition\u001b[0m\u001b[0;34m.\u001b[0m\u001b[0mwait\u001b[0m\u001b[0;34m(\u001b[0m\u001b[0mtimeout\u001b[0m\u001b[0;34m)\u001b[0m\u001b[0;34m\u001b[0m\u001b[0;34m\u001b[0m\u001b[0m\n\u001b[0m\u001b[1;32m    428\u001b[0m \u001b[0;34m\u001b[0m\u001b[0m\n\u001b[1;32m    429\u001b[0m             \u001b[0;32mif\u001b[0m \u001b[0mself\u001b[0m\u001b[0;34m.\u001b[0m\u001b[0m_state\u001b[0m \u001b[0;32min\u001b[0m \u001b[0;34m[\u001b[0m\u001b[0mCANCELLED\u001b[0m\u001b[0;34m,\u001b[0m \u001b[0mCANCELLED_AND_NOTIFIED\u001b[0m\u001b[0;34m]\u001b[0m\u001b[0;34m:\u001b[0m\u001b[0;34m\u001b[0m\u001b[0;34m\u001b[0m\u001b[0m\n",
            "\u001b[0;32m/usr/lib/python3.6/threading.py\u001b[0m in \u001b[0;36mwait\u001b[0;34m(self, timeout)\u001b[0m\n\u001b[1;32m    293\u001b[0m         \u001b[0;32mtry\u001b[0m\u001b[0;34m:\u001b[0m    \u001b[0;31m# restore state no matter what (e.g., KeyboardInterrupt)\u001b[0m\u001b[0;34m\u001b[0m\u001b[0;34m\u001b[0m\u001b[0m\n\u001b[1;32m    294\u001b[0m             \u001b[0;32mif\u001b[0m \u001b[0mtimeout\u001b[0m \u001b[0;32mis\u001b[0m \u001b[0;32mNone\u001b[0m\u001b[0;34m:\u001b[0m\u001b[0;34m\u001b[0m\u001b[0;34m\u001b[0m\u001b[0m\n\u001b[0;32m--> 295\u001b[0;31m                 \u001b[0mwaiter\u001b[0m\u001b[0;34m.\u001b[0m\u001b[0macquire\u001b[0m\u001b[0;34m(\u001b[0m\u001b[0;34m)\u001b[0m\u001b[0;34m\u001b[0m\u001b[0;34m\u001b[0m\u001b[0m\n\u001b[0m\u001b[1;32m    296\u001b[0m                 \u001b[0mgotit\u001b[0m \u001b[0;34m=\u001b[0m \u001b[0;32mTrue\u001b[0m\u001b[0;34m\u001b[0m\u001b[0;34m\u001b[0m\u001b[0m\n\u001b[1;32m    297\u001b[0m             \u001b[0;32melse\u001b[0m\u001b[0;34m:\u001b[0m\u001b[0;34m\u001b[0m\u001b[0;34m\u001b[0m\u001b[0m\n",
            "\u001b[0;31mKeyboardInterrupt\u001b[0m: "
          ]
        }
      ]
    },
    {
      "cell_type": "code",
      "metadata": {
        "id": "lba9h4QqZ2L7",
        "colab_type": "code",
        "outputId": "f75127c0-afa2-422a-bd92-36fc5a8bbb4a",
        "colab": {
          "base_uri": "https://localhost:8080/",
          "height": 68
        }
      },
      "source": [
        "print('best params:', rs.best_params_)\n",
        "print('best CV score:', rs.best_score_)\n",
        "print('model size: {:0.2f}M'.format(rs.best_estimator_.size_ / 1000000))\n"
      ],
      "execution_count": 0,
      "outputs": [
        {
          "output_type": "stream",
          "text": [
            "best params: {'c1': 0.679376799768718, 'c2': 0.0424220238901698}\n",
            "best CV score: 0.5572117465768939\n",
            "model size: 0.22M\n"
          ],
          "name": "stdout"
        }
      ]
    },
    {
      "cell_type": "code",
      "metadata": {
        "id": "UNljSD4rPop8",
        "colab_type": "code",
        "outputId": "92535748-b419-4509-81da-718d30d7bee2",
        "colab": {
          "base_uri": "https://localhost:8080/",
          "height": 564
        }
      },
      "source": [
        "crf = rs.best_estimator_\n",
        "y_pred = crf.predict(X_test)\n",
        "print(metrics.flat_classification_report(\n",
        "    y_test, y_pred, labels=sorted_labels, digits=3\n",
        "))\n"
      ],
      "execution_count": 0,
      "outputs": [
        {
          "output_type": "stream",
          "text": [
            "                        precision    recall  f1-score   support\n",
            "\n",
            "        I-AgeOfPatient      0.857     0.462     0.600        13\n",
            "    I-AgeUnitOfPatient      0.909     0.769     0.833        13\n",
            "        I-ArticleTitle      0.571     0.370     0.449        54\n",
            "     I-GenderOfPatient      1.000     0.846     0.917        13\n",
            "         I-JournalName      0.562     0.237     0.333        38\n",
            "  I-ReportedIndication      0.000     0.000     0.000        30\n",
            "     I-ReporterAddress      0.000     0.000     0.000        20\n",
            "        I-ReporterCity      0.500     0.105     0.174        19\n",
            "     I-ReporterCountry      1.000     0.400     0.571        10\n",
            "  I-ReporterDepartment      0.634     0.867     0.732        30\n",
            "I-ReporterEmailAddress      1.000     0.900     0.947        10\n",
            "       I-ReporterFName      0.429     0.150     0.222        20\n",
            " I-ReporterInstitution      0.844     0.771     0.806        35\n",
            "       I-ReporterLName      0.875     0.259     0.400        27\n",
            "       I-ReporterMName      0.000     0.000     0.000         2\n",
            "I-SuspectedProductName      0.953     0.988     0.970        82\n",
            " I-VolumeOfPublication      1.000     0.304     0.467        23\n",
            "   I-YearOfPublication      0.333     0.250     0.286         8\n",
            "\n",
            "             micro avg      0.778     0.501     0.610       447\n",
            "             macro avg      0.637     0.427     0.484       447\n",
            "          weighted avg      0.676     0.501     0.546       447\n",
            "\n"
          ],
          "name": "stdout"
        },
        {
          "output_type": "stream",
          "text": [
            "/usr/local/lib/python3.6/dist-packages/sklearn/metrics/classification.py:1143: UndefinedMetricWarning: Precision and F-score are ill-defined and being set to 0.0 in labels with no predicted samples.\n",
            "  'precision', 'predicted', average, warn_for)\n",
            "/usr/local/lib/python3.6/dist-packages/sklearn/metrics/classification.py:1143: UndefinedMetricWarning: Precision and F-score are ill-defined and being set to 0.0 in labels with no predicted samples.\n",
            "  'precision', 'predicted', average, warn_for)\n",
            "/usr/local/lib/python3.6/dist-packages/sklearn/metrics/classification.py:1143: UndefinedMetricWarning: Precision and F-score are ill-defined and being set to 0.0 in labels with no predicted samples.\n",
            "  'precision', 'predicted', average, warn_for)\n"
          ],
          "name": "stderr"
        }
      ]
    },
    {
      "cell_type": "code",
      "metadata": {
        "id": "TYsri6AGaOaZ",
        "colab_type": "code",
        "colab": {}
      },
      "source": [
        "def get_sent1(final_df):\n",
        "  getter = SentenceGetter(final_df)\n",
        "  data = []\n",
        "  for i, doc in enumerate(getter.sentences):\n",
        "\n",
        "      # Obtain the list of tokens in the document\n",
        "      tokens = [t for t, tags in doc]\n",
        "\n",
        "      # Perform POS tagging\n",
        "      #tagged = nltk.pos_tag(tokens)\n",
        "\n",
        "      # Take the word, POS tag, and its label\n",
        "      data.append([(w, label) for (w, label)  in doc])\n",
        "  return data"
      ],
      "execution_count": 0,
      "outputs": []
    },
    {
      "cell_type": "code",
      "metadata": {
        "id": "9mPbKHKUX35N",
        "colab_type": "code",
        "colab": {}
      },
      "source": [
        "test1=get_sent1(test)\n",
        "train1=get_sent1(train)"
      ],
      "execution_count": 0,
      "outputs": []
    },
    {
      "cell_type": "code",
      "metadata": {
        "id": "9F7w_0ZaYOPT",
        "colab_type": "code",
        "colab": {}
      },
      "source": [
        "import pickle\n",
        "with open('test1.pkl', 'wb') as f:\n",
        " pickle.dump(test1, f)\n",
        "with open('train1.pkl', 'wb') as f:\n",
        " pickle.dump(train1, f)\n"
      ],
      "execution_count": 0,
      "outputs": []
    },
    {
      "cell_type": "code",
      "metadata": {
        "id": "5hD8DIReYlkQ",
        "colab_type": "code",
        "outputId": "d4ecac2a-383a-431a-9036-4561aa015fd7",
        "colab": {
          "base_uri": "https://localhost:8080/",
          "height": 111
        }
      },
      "source": [
        "train.loc[train.words=='sulindac']"
      ],
      "execution_count": 0,
      "outputs": [
        {
          "output_type": "execute_result",
          "data": {
            "text/html": [
              "<div>\n",
              "<style scoped>\n",
              "    .dataframe tbody tr th:only-of-type {\n",
              "        vertical-align: middle;\n",
              "    }\n",
              "\n",
              "    .dataframe tbody tr th {\n",
              "        vertical-align: top;\n",
              "    }\n",
              "\n",
              "    .dataframe thead th {\n",
              "        text-align: right;\n",
              "    }\n",
              "</style>\n",
              "<table border=\"1\" class=\"dataframe\">\n",
              "  <thead>\n",
              "    <tr style=\"text-align: right;\">\n",
              "      <th></th>\n",
              "      <th>doc_id</th>\n",
              "      <th>doc_id1</th>\n",
              "      <th>words</th>\n",
              "      <th>tags</th>\n",
              "    </tr>\n",
              "  </thead>\n",
              "  <tbody>\n",
              "    <tr>\n",
              "      <th>62774</th>\n",
              "      <td>10s103</td>\n",
              "      <td>10</td>\n",
              "      <td>sulindac</td>\n",
              "      <td>O</td>\n",
              "    </tr>\n",
              "    <tr>\n",
              "      <th>62793</th>\n",
              "      <td>10s103</td>\n",
              "      <td>10</td>\n",
              "      <td>sulindac</td>\n",
              "      <td>O</td>\n",
              "    </tr>\n",
              "  </tbody>\n",
              "</table>\n",
              "</div>"
            ],
            "text/plain": [
              "       doc_id doc_id1     words tags\n",
              "62774  10s103      10  sulindac    O\n",
              "62793  10s103      10  sulindac    O"
            ]
          },
          "metadata": {
            "tags": []
          },
          "execution_count": 81
        }
      ]
    },
    {
      "cell_type": "code",
      "metadata": {
        "id": "KnlMn9KIYvKP",
        "colab_type": "code",
        "colab": {}
      },
      "source": [
        ""
      ],
      "execution_count": 0,
      "outputs": []
    },
    {
      "cell_type": "code",
      "metadata": {
        "id": "2xt1kOLEZAna",
        "colab_type": "code",
        "colab": {}
      },
      "source": [
        ""
      ],
      "execution_count": 0,
      "outputs": []
    }
  ]
}