{
  "nbformat": 4,
  "nbformat_minor": 0,
  "metadata": {
    "colab": {
      "name": "100-epochs-Tiny-Imagenet-fastai-45%-Valid-Accuracy.ipynb",
      "version": "0.3.2",
      "provenance": [],
      "collapsed_sections": [],
      "include_colab_link": true
    },
    "kernelspec": {
      "name": "python3",
      "display_name": "Python 3"
    },
    "accelerator": "GPU"
  },
  "cells": [
    {
      "cell_type": "markdown",
      "metadata": {
        "id": "view-in-github",
        "colab_type": "text"
      },
      "source": [
        "<a href=\"https://colab.research.google.com/github/sheikmohdimran/Experiments_2019/blob/master/100_epochs_Tiny_Imagenet_fastai_45_Valid_Accuracy.ipynb\" target=\"_parent\"><img src=\"https://colab.research.google.com/assets/colab-badge.svg\" alt=\"Open In Colab\"/></a>"
      ]
    },
    {
      "cell_type": "code",
      "metadata": {
        "id": "USYNMZB7FzRw",
        "colab_type": "code",
        "outputId": "51f6d472-21f6-43f0-9a71-32df159f3377",
        "colab": {
          "base_uri": "https://localhost:8080/",
          "height": 238
        }
      },
      "source": [
        "!curl -s https://course.fast.ai/setup/colab | bash\n",
        "!wget http://cs231n.stanford.edu/tiny-imagenet-200.zip\n",
        "!unzip -q tiny-imagenet-200.zip  tiny-imagenet-200/val/* \n",
        "!unzip -q tiny-imagenet-200.zip  tiny-imagenet-200/train/*"
      ],
      "execution_count": 0,
      "outputs": [
        {
          "output_type": "stream",
          "text": [
            "Updating fastai...\n",
            "Done.\n",
            "--2019-05-03 05:43:45--  http://cs231n.stanford.edu/tiny-imagenet-200.zip\n",
            "Resolving cs231n.stanford.edu (cs231n.stanford.edu)... 171.64.68.10\n",
            "Connecting to cs231n.stanford.edu (cs231n.stanford.edu)|171.64.68.10|:80... connected.\n",
            "HTTP request sent, awaiting response... 200 OK\n",
            "Length: 248100043 (237M) [application/zip]\n",
            "Saving to: ‘tiny-imagenet-200.zip’\n",
            "\n",
            "tiny-imagenet-200.z 100%[===================>] 236.61M  93.0MB/s    in 2.5s    \n",
            "\n",
            "2019-05-03 05:43:48 (93.0 MB/s) - ‘tiny-imagenet-200.zip’ saved [248100043/248100043]\n",
            "\n"
          ],
          "name": "stdout"
        }
      ]
    },
    {
      "cell_type": "code",
      "metadata": {
        "id": "P1ERn7r_F-lY",
        "colab_type": "code",
        "colab": {}
      },
      "source": [
        "from fastai.vision import Path\n",
        "PATH_TRN = Path('/content/tiny-imagenet-200/train')\n",
        "PATH_VAL = Path('/content/tiny-imagenet-200/val')"
      ],
      "execution_count": 0,
      "outputs": []
    },
    {
      "cell_type": "code",
      "metadata": {
        "id": "O9AdnalzGBTB",
        "colab_type": "code",
        "colab": {}
      },
      "source": [
        "#move all filess in tiny-imagenet-200/train/n0000/images/ to tiny-imagenet-200/train/n0000/\n",
        "\n",
        "import os,shutil, sys  \n",
        "for root, dirs, files in os.walk(PATH_TRN):\n",
        "    for dr in dirs:\n",
        "        if dr == \"images\":\n",
        "            dr = root+\"/\"+dr\n",
        "            # direct superior directory\n",
        "            up = dr[:dr.rfind(\"/\")]\n",
        "            # move files from lowest level one level up\n",
        "            for f in os.listdir(dr):\n",
        "                shutil.move(dr+\"/\"+f, up+\"/\"+f)\n",
        "                \n",
        "def create_val_folder():\n",
        "    path = PATH_VAL/'images'\n",
        "    filename = PATH_VAL/'val_annotations.txt'\n",
        "    fp = open(filename, \"r\")  # open file in read mode\n",
        "    data = fp.readlines()  # read line by line\n",
        "\n",
        "    # Create a dictionary with image names as key and corresponding classes as values\n",
        "    val_img_dict = {}\n",
        "    for line in data:\n",
        "        words = line.split(\"\\t\")\n",
        "        val_img_dict[words[0]] = words[1]\n",
        "    fp.close()\n",
        "\n",
        "    # Create folder if not present, and move image into proper folder\n",
        "    for img, folder in val_img_dict.items():\n",
        "        newpath = (os.path.join(path, folder))\n",
        "        if not os.path.exists(newpath):  # check if folder exists\n",
        "            os.makedirs(newpath)\n",
        "\n",
        "        if os.path.exists(os.path.join(path, img)):  # Check if image exists in default directory\n",
        "            os.rename(os.path.join(path, img), os.path.join(newpath, img))\n",
        "\n",
        "create_val_folder()  "
      ],
      "execution_count": 0,
      "outputs": []
    },
    {
      "cell_type": "code",
      "metadata": {
        "id": "W-9hzp-0GI8V",
        "colab_type": "code",
        "colab": {}
      },
      "source": [
        "!mv /content/tiny-imagenet-200/val/images/* /content/tiny-imagenet-200/val/\n",
        "!rm -rf /content/tiny-imagenet-200/val/images\n"
      ],
      "execution_count": 0,
      "outputs": []
    },
    {
      "cell_type": "code",
      "metadata": {
        "id": "e4AkE4JbhCzY",
        "colab_type": "code",
        "colab": {}
      },
      "source": [
        "from fastai.vision import *\n",
        "PATH = Path('/content/tiny-imagenet-200')\n",
        "il = ImageList.from_folder(PATH)\n",
        "sd = il.split_by_folder(train='train', valid='val')\n",
        "ll = sd.label_from_folder()"
      ],
      "execution_count": 0,
      "outputs": []
    },
    {
      "cell_type": "code",
      "metadata": {
        "id": "yIuWaAplIQqF",
        "colab_type": "code",
        "colab": {}
      },
      "source": [
        "ll=ll.transform(get_transforms(),size=16)\n",
        "bs = 2048//2\n",
        "data = ll.databunch(bs=bs).normalize(imagenet_stats)"
      ],
      "execution_count": 0,
      "outputs": []
    },
    {
      "cell_type": "code",
      "metadata": {
        "id": "gTir9c7JIbly",
        "colab_type": "code",
        "colab": {}
      },
      "source": [
        "def conv2(ni,nf): return conv_layer(ni,nf,stride=2)\n",
        "def conv_and_res(ni,nf): return nn.Sequential(conv2(ni, nf), res_block(nf))"
      ],
      "execution_count": 0,
      "outputs": []
    },
    {
      "cell_type": "code",
      "metadata": {
        "id": "X_GAedlyIdKE",
        "colab_type": "code",
        "colab": {}
      },
      "source": [
        "model = nn.Sequential(\n",
        "    conv_and_res(3, 64),    \n",
        "    conv_and_res(64, 64),\n",
        "    conv_and_res(64, 128),\n",
        "    conv_and_res(128, 128),\n",
        "    conv_and_res(128, 256),\n",
        "    conv_and_res(256, 256),\n",
        "    conv_and_res(256, 200),\n",
        "    conv2(200, 200),\n",
        "    Flatten()\n",
        ")"
      ],
      "execution_count": 0,
      "outputs": []
    },
    {
      "cell_type": "code",
      "metadata": {
        "id": "P449HiLTIlph",
        "colab_type": "code",
        "colab": {}
      },
      "source": [
        "from fastai.callbacks import ReduceLROnPlateauCallback,SaveModelCallback,EarlyStoppingCallback"
      ],
      "execution_count": 0,
      "outputs": []
    },
    {
      "cell_type": "code",
      "metadata": {
        "id": "t7xth-V1In_I",
        "colab_type": "code",
        "outputId": "72a28763-f533-4380-d65e-341291afb165",
        "colab": {
          "base_uri": "https://localhost:8080/",
          "height": 300
        }
      },
      "source": [
        "learn = Learner(data, model, loss_func = nn.CrossEntropyLoss(), metrics=accuracy)\n",
        "learn.callback_fns.append(partial(ReduceLROnPlateauCallback, min_delta=1e-3, patience=2))\n",
        "learn.callback_fns.append(partial(SaveModelCallback,monitor='val_loss',mode='min', name='stage-16'))\n",
        "learn.callback_fns.append(partial(EarlyStoppingCallback,monitor='val_loss',patience = 5))\n",
        "learn.lr_find(end_lr=100)\n",
        "learn.recorder.plot()"
      ],
      "execution_count": 0,
      "outputs": [
        {
          "output_type": "display_data",
          "data": {
            "text/html": [
              ""
            ],
            "text/plain": [
              "<IPython.core.display.HTML object>"
            ]
          },
          "metadata": {
            "tags": []
          }
        },
        {
          "output_type": "stream",
          "text": [
            "LR Finder is complete, type {learner_name}.recorder.plot() to see the graph.\n"
          ],
          "name": "stdout"
        },
        {
          "output_type": "display_data",
          "data": {
            "image/png": "[encoded data removed]",
            "text/plain": [
              "<Figure size 432x288 with 1 Axes>"
            ]
          },
          "metadata": {
            "tags": []
          }
        }
      ]
    },
    {
      "cell_type": "code",
      "metadata": {
        "id": "DptQY2iDIqbL",
        "colab_type": "code",
        "outputId": "36a9891e-2c84-4c46-b4ea-d9143825c7ff",
        "colab": {
          "base_uri": "https://localhost:8080/",
          "height": 1416
        }
      },
      "source": [
        "lr=1e-2\n",
        "learn.fit_one_cycle(32, max_lr=lr)"
      ],
      "execution_count": 0,
      "outputs": [
        {
          "output_type": "display_data",
          "data": {
            "text/html": [
              "\n",
              "    <div>\n",
              "        <style>\n",
              "            /* Turns off some styling */\n",
              "            progress {\n",
              "                /* gets rid of default border in Firefox and Opera. */\n",
              "                border: none;\n",
              "                /* Needs to be in here for Safari polyfill so background images work as expected. */\n",
              "                background-size: auto;\n",
              "            }\n",
              "            .progress-bar-interrupted, .progress-bar-interrupted::-webkit-progress-bar {\n",
              "                background: #F44336;\n",
              "            }\n",
              "        </style>\n",
              "      <progress value='30' class='' max='32', style='width:300px; height:20px; vertical-align: middle;'></progress>\n",
              "      93.75% [30/32 59:49<03:59]\n",
              "    </div>\n",
              "    \n",
              "<table border=\"1\" class=\"dataframe\">\n",
              "  <thead>\n",
              "    <tr style=\"text-align: left;\">\n",
              "      <th>epoch</th>\n",
              "      <th>train_loss</th>\n",
              "      <th>valid_loss</th>\n",
              "      <th>accuracy</th>\n",
              "      <th>time</th>\n",
              "    </tr>\n",
              "  </thead>\n",
              "  <tbody>\n",
              "    <tr>\n",
              "      <td>0</td>\n",
              "      <td>5.308076</td>\n",
              "      <td>5.229002</td>\n",
              "      <td>0.018300</td>\n",
              "      <td>01:54</td>\n",
              "    </tr>\n",
              "    <tr>\n",
              "      <td>1</td>\n",
              "      <td>5.078135</td>\n",
              "      <td>4.961446</td>\n",
              "      <td>0.040700</td>\n",
              "      <td>01:56</td>\n",
              "    </tr>\n",
              "    <tr>\n",
              "      <td>2</td>\n",
              "      <td>4.829848</td>\n",
              "      <td>4.693896</td>\n",
              "      <td>0.061800</td>\n",
              "      <td>01:54</td>\n",
              "    </tr>\n",
              "    <tr>\n",
              "      <td>3</td>\n",
              "      <td>4.608782</td>\n",
              "      <td>4.599228</td>\n",
              "      <td>0.077700</td>\n",
              "      <td>01:55</td>\n",
              "    </tr>\n",
              "    <tr>\n",
              "      <td>4</td>\n",
              "      <td>4.401517</td>\n",
              "      <td>4.406595</td>\n",
              "      <td>0.097900</td>\n",
              "      <td>01:57</td>\n",
              "    </tr>\n",
              "    <tr>\n",
              "      <td>5</td>\n",
              "      <td>4.206268</td>\n",
              "      <td>4.229718</td>\n",
              "      <td>0.120000</td>\n",
              "      <td>01:59</td>\n",
              "    </tr>\n",
              "    <tr>\n",
              "      <td>6</td>\n",
              "      <td>4.042176</td>\n",
              "      <td>4.013574</td>\n",
              "      <td>0.145400</td>\n",
              "      <td>02:00</td>\n",
              "    </tr>\n",
              "    <tr>\n",
              "      <td>7</td>\n",
              "      <td>3.888277</td>\n",
              "      <td>3.874768</td>\n",
              "      <td>0.159500</td>\n",
              "      <td>01:59</td>\n",
              "    </tr>\n",
              "    <tr>\n",
              "      <td>8</td>\n",
              "      <td>3.766331</td>\n",
              "      <td>3.844429</td>\n",
              "      <td>0.169200</td>\n",
              "      <td>02:01</td>\n",
              "    </tr>\n",
              "    <tr>\n",
              "      <td>9</td>\n",
              "      <td>3.661791</td>\n",
              "      <td>3.684695</td>\n",
              "      <td>0.195000</td>\n",
              "      <td>01:58</td>\n",
              "    </tr>\n",
              "    <tr>\n",
              "      <td>10</td>\n",
              "      <td>3.571874</td>\n",
              "      <td>3.633107</td>\n",
              "      <td>0.200300</td>\n",
              "      <td>02:01</td>\n",
              "    </tr>\n",
              "    <tr>\n",
              "      <td>11</td>\n",
              "      <td>3.481161</td>\n",
              "      <td>3.519251</td>\n",
              "      <td>0.217600</td>\n",
              "      <td>01:59</td>\n",
              "    </tr>\n",
              "    <tr>\n",
              "      <td>12</td>\n",
              "      <td>3.408364</td>\n",
              "      <td>3.468436</td>\n",
              "      <td>0.224100</td>\n",
              "      <td>02:00</td>\n",
              "    </tr>\n",
              "    <tr>\n",
              "      <td>13</td>\n",
              "      <td>3.337352</td>\n",
              "      <td>3.477564</td>\n",
              "      <td>0.227600</td>\n",
              "      <td>02:00</td>\n",
              "    </tr>\n",
              "    <tr>\n",
              "      <td>14</td>\n",
              "      <td>3.266212</td>\n",
              "      <td>3.408232</td>\n",
              "      <td>0.242700</td>\n",
              "      <td>02:01</td>\n",
              "    </tr>\n",
              "    <tr>\n",
              "      <td>15</td>\n",
              "      <td>3.201092</td>\n",
              "      <td>3.394376</td>\n",
              "      <td>0.242400</td>\n",
              "      <td>02:01</td>\n",
              "    </tr>\n",
              "    <tr>\n",
              "      <td>16</td>\n",
              "      <td>3.134134</td>\n",
              "      <td>3.314284</td>\n",
              "      <td>0.255700</td>\n",
              "      <td>02:00</td>\n",
              "    </tr>\n",
              "    <tr>\n",
              "      <td>17</td>\n",
              "      <td>3.069842</td>\n",
              "      <td>3.322411</td>\n",
              "      <td>0.251900</td>\n",
              "      <td>01:57</td>\n",
              "    </tr>\n",
              "    <tr>\n",
              "      <td>18</td>\n",
              "      <td>3.004626</td>\n",
              "      <td>3.286493</td>\n",
              "      <td>0.269900</td>\n",
              "      <td>01:59</td>\n",
              "    </tr>\n",
              "    <tr>\n",
              "      <td>19</td>\n",
              "      <td>2.930103</td>\n",
              "      <td>3.221982</td>\n",
              "      <td>0.275700</td>\n",
              "      <td>01:57</td>\n",
              "    </tr>\n",
              "    <tr>\n",
              "      <td>20</td>\n",
              "      <td>2.866969</td>\n",
              "      <td>3.258077</td>\n",
              "      <td>0.275100</td>\n",
              "      <td>01:59</td>\n",
              "    </tr>\n",
              "    <tr>\n",
              "      <td>21</td>\n",
              "      <td>2.804529</td>\n",
              "      <td>3.235745</td>\n",
              "      <td>0.274700</td>\n",
              "      <td>02:01</td>\n",
              "    </tr>\n",
              "    <tr>\n",
              "      <td>22</td>\n",
              "      <td>2.733985</td>\n",
              "      <td>3.240969</td>\n",
              "      <td>0.278400</td>\n",
              "      <td>02:00</td>\n",
              "    </tr>\n",
              "    <tr>\n",
              "      <td>23</td>\n",
              "      <td>2.663015</td>\n",
              "      <td>3.226226</td>\n",
              "      <td>0.282600</td>\n",
              "      <td>02:01</td>\n",
              "    </tr>\n",
              "    <tr>\n",
              "      <td>24</td>\n",
              "      <td>2.586491</td>\n",
              "      <td>3.216571</td>\n",
              "      <td>0.286600</td>\n",
              "      <td>02:01</td>\n",
              "    </tr>\n",
              "    <tr>\n",
              "      <td>25</td>\n",
              "      <td>2.536826</td>\n",
              "      <td>3.221572</td>\n",
              "      <td>0.291000</td>\n",
              "      <td>02:01</td>\n",
              "    </tr>\n",
              "    <tr>\n",
              "      <td>26</td>\n",
              "      <td>2.480973</td>\n",
              "      <td>3.219328</td>\n",
              "      <td>0.294600</td>\n",
              "      <td>02:01</td>\n",
              "    </tr>\n",
              "    <tr>\n",
              "      <td>27</td>\n",
              "      <td>2.425726</td>\n",
              "      <td>3.228881</td>\n",
              "      <td>0.298300</td>\n",
              "      <td>01:59</td>\n",
              "    </tr>\n",
              "    <tr>\n",
              "      <td>28</td>\n",
              "      <td>2.387500</td>\n",
              "      <td>3.246133</td>\n",
              "      <td>0.296900</td>\n",
              "      <td>02:02</td>\n",
              "    </tr>\n",
              "    <tr>\n",
              "      <td>29</td>\n",
              "      <td>2.367092</td>\n",
              "      <td>3.247694</td>\n",
              "      <td>0.297300</td>\n",
              "      <td>01:58</td>\n",
              "    </tr>\n",
              "  </tbody>\n",
              "</table><p>\n",
              "\n",
              "    <div>\n",
              "        <style>\n",
              "            /* Turns off some styling */\n",
              "            progress {\n",
              "                /* gets rid of default border in Firefox and Opera. */\n",
              "                border: none;\n",
              "                /* Needs to be in here for Safari polyfill so background images work as expected. */\n",
              "                background-size: auto;\n",
              "            }\n",
              "            .progress-bar-interrupted, .progress-bar-interrupted::-webkit-progress-bar {\n",
              "                background: #F44336;\n",
              "            }\n",
              "        </style>\n",
              "      <progress value='10' class='' max='10', style='width:300px; height:20px; vertical-align: middle;'></progress>\n",
              "      100.00% [10/10 00:05<00:00]\n",
              "    </div>\n",
              "    "
            ],
            "text/plain": [
              "<IPython.core.display.HTML object>"
            ]
          },
          "metadata": {
            "tags": []
          }
        },
        {
          "output_type": "stream",
          "text": [
            "Better model found at epoch 0 with val_loss value: 5.229002475738525.\n",
            "Better model found at epoch 1 with val_loss value: 4.961446285247803.\n",
            "Better model found at epoch 2 with val_loss value: 4.693896293640137.\n",
            "Better model found at epoch 3 with val_loss value: 4.599228382110596.\n",
            "Better model found at epoch 4 with val_loss value: 4.406595230102539.\n",
            "Better model found at epoch 5 with val_loss value: 4.22971773147583.\n",
            "Better model found at epoch 6 with val_loss value: 4.01357364654541.\n",
            "Better model found at epoch 7 with val_loss value: 3.8747682571411133.\n",
            "Better model found at epoch 8 with val_loss value: 3.844428539276123.\n",
            "Better model found at epoch 9 with val_loss value: 3.684695243835449.\n",
            "Better model found at epoch 10 with val_loss value: 3.6331069469451904.\n",
            "Better model found at epoch 11 with val_loss value: 3.5192511081695557.\n",
            "Better model found at epoch 12 with val_loss value: 3.4684360027313232.\n",
            "Better model found at epoch 14 with val_loss value: 3.4082324504852295.\n",
            "Better model found at epoch 15 with val_loss value: 3.394376277923584.\n",
            "Better model found at epoch 16 with val_loss value: 3.314283609390259.\n",
            "Better model found at epoch 18 with val_loss value: 3.2864933013916016.\n",
            "Better model found at epoch 19 with val_loss value: 3.221982479095459.\n",
            "Epoch 22: reducing lr to 0.0006962177829423007\n",
            "Better model found at epoch 24 with val_loss value: 3.2165708541870117.\n",
            "Epoch 27: reducing lr to 0.00015325571819407627\n",
            "Epoch 30: reducing lr to 9.825031009358674e-06\n",
            "Epoch 30: early stopping\n"
          ],
          "name": "stdout"
        }
      ]
    },
    {
      "cell_type": "code",
      "metadata": {
        "id": "cjluxjvQFU84",
        "colab_type": "code",
        "outputId": "1912f5ba-3952-4b0c-c8f4-7ed499ae2137",
        "colab": {
          "base_uri": "https://localhost:8080/",
          "height": 300
        }
      },
      "source": [
        "ll = sd.label_from_folder()\n",
        "ll=ll.transform(get_transforms(),size=32)\n",
        "bs = 2048//2\n",
        "data = ll.databunch(bs=bs).normalize(imagenet_stats)\n",
        "learn = Learner(data, model, loss_func = nn.CrossEntropyLoss(), metrics=accuracy)\n",
        "learn.callback_fns.append(partial(ReduceLROnPlateauCallback, min_delta=1e-2, patience=2))\n",
        "learn.callback_fns.append(partial(SaveModelCallback,monitor='val_loss',mode='min', name='stage-32'))\n",
        "learn.callback_fns.append(partial(EarlyStoppingCallback,monitor='val_loss',patience = 5))\n",
        "learn=learn.load('stage-16')\n",
        "learn.lr_find(end_lr=100)\n",
        "learn.recorder.plot()"
      ],
      "execution_count": 0,
      "outputs": [
        {
          "output_type": "display_data",
          "data": {
            "text/html": [
              ""
            ],
            "text/plain": [
              "<IPython.core.display.HTML object>"
            ]
          },
          "metadata": {
            "tags": []
          }
        },
        {
          "output_type": "stream",
          "text": [
            "LR Finder is complete, type {learner_name}.recorder.plot() to see the graph.\n"
          ],
          "name": "stdout"
        },
        {
          "output_type": "display_data",
          "data": {
            "image/png": "[encoded data removed]",
            "text/plain": [
              "<Figure size 432x288 with 1 Axes>"
            ]
          },
          "metadata": {
            "tags": []
          }
        }
      ]
    },
    {
      "cell_type": "code",
      "metadata": {
        "id": "2pXeZLyLFl8i",
        "colab_type": "code",
        "outputId": "1e7b39c9-fcf0-4c5e-d25a-fab0ebb5a5d8",
        "colab": {
          "base_uri": "https://localhost:8080/",
          "height": 1097
        }
      },
      "source": [
        "lr=1e-2\n",
        "learn.fit_one_cycle(32, max_lr=lr)"
      ],
      "execution_count": 0,
      "outputs": [
        {
          "output_type": "display_data",
          "data": {
            "text/html": [
              "\n",
              "    <div>\n",
              "        <style>\n",
              "            /* Turns off some styling */\n",
              "            progress {\n",
              "                /* gets rid of default border in Firefox and Opera. */\n",
              "                border: none;\n",
              "                /* Needs to be in here for Safari polyfill so background images work as expected. */\n",
              "                background-size: auto;\n",
              "            }\n",
              "            .progress-bar-interrupted, .progress-bar-interrupted::-webkit-progress-bar {\n",
              "                background: #F44336;\n",
              "            }\n",
              "        </style>\n",
              "      <progress value='23' class='' max='32', style='width:300px; height:20px; vertical-align: middle;'></progress>\n",
              "      71.88% [23/32 46:44<18:17]\n",
              "    </div>\n",
              "    \n",
              "<table border=\"1\" class=\"dataframe\">\n",
              "  <thead>\n",
              "    <tr style=\"text-align: left;\">\n",
              "      <th>epoch</th>\n",
              "      <th>train_loss</th>\n",
              "      <th>valid_loss</th>\n",
              "      <th>accuracy</th>\n",
              "      <th>time</th>\n",
              "    </tr>\n",
              "  </thead>\n",
              "  <tbody>\n",
              "    <tr>\n",
              "      <td>0</td>\n",
              "      <td>3.965569</td>\n",
              "      <td>3.625761</td>\n",
              "      <td>0.194000</td>\n",
              "      <td>02:01</td>\n",
              "    </tr>\n",
              "    <tr>\n",
              "      <td>1</td>\n",
              "      <td>3.298284</td>\n",
              "      <td>3.172472</td>\n",
              "      <td>0.270300</td>\n",
              "      <td>02:00</td>\n",
              "    </tr>\n",
              "    <tr>\n",
              "      <td>2</td>\n",
              "      <td>2.963585</td>\n",
              "      <td>3.014633</td>\n",
              "      <td>0.303500</td>\n",
              "      <td>02:01</td>\n",
              "    </tr>\n",
              "    <tr>\n",
              "      <td>3</td>\n",
              "      <td>2.808969</td>\n",
              "      <td>2.981061</td>\n",
              "      <td>0.309200</td>\n",
              "      <td>02:00</td>\n",
              "    </tr>\n",
              "    <tr>\n",
              "      <td>4</td>\n",
              "      <td>2.745691</td>\n",
              "      <td>2.969253</td>\n",
              "      <td>0.312700</td>\n",
              "      <td>02:02</td>\n",
              "    </tr>\n",
              "    <tr>\n",
              "      <td>5</td>\n",
              "      <td>2.717375</td>\n",
              "      <td>3.010451</td>\n",
              "      <td>0.307600</td>\n",
              "      <td>01:59</td>\n",
              "    </tr>\n",
              "    <tr>\n",
              "      <td>6</td>\n",
              "      <td>2.694105</td>\n",
              "      <td>2.961189</td>\n",
              "      <td>0.317100</td>\n",
              "      <td>02:01</td>\n",
              "    </tr>\n",
              "    <tr>\n",
              "      <td>7</td>\n",
              "      <td>2.667308</td>\n",
              "      <td>3.005731</td>\n",
              "      <td>0.309600</td>\n",
              "      <td>02:02</td>\n",
              "    </tr>\n",
              "    <tr>\n",
              "      <td>8</td>\n",
              "      <td>2.647022</td>\n",
              "      <td>2.952501</td>\n",
              "      <td>0.317800</td>\n",
              "      <td>02:01</td>\n",
              "    </tr>\n",
              "    <tr>\n",
              "      <td>9</td>\n",
              "      <td>2.599494</td>\n",
              "      <td>2.973925</td>\n",
              "      <td>0.321000</td>\n",
              "      <td>02:01</td>\n",
              "    </tr>\n",
              "    <tr>\n",
              "      <td>10</td>\n",
              "      <td>2.538538</td>\n",
              "      <td>2.898716</td>\n",
              "      <td>0.330700</td>\n",
              "      <td>02:02</td>\n",
              "    </tr>\n",
              "    <tr>\n",
              "      <td>11</td>\n",
              "      <td>2.486970</td>\n",
              "      <td>2.856706</td>\n",
              "      <td>0.341500</td>\n",
              "      <td>02:00</td>\n",
              "    </tr>\n",
              "    <tr>\n",
              "      <td>12</td>\n",
              "      <td>2.424094</td>\n",
              "      <td>2.833045</td>\n",
              "      <td>0.343800</td>\n",
              "      <td>02:04</td>\n",
              "    </tr>\n",
              "    <tr>\n",
              "      <td>13</td>\n",
              "      <td>2.373881</td>\n",
              "      <td>2.883531</td>\n",
              "      <td>0.339700</td>\n",
              "      <td>02:01</td>\n",
              "    </tr>\n",
              "    <tr>\n",
              "      <td>14</td>\n",
              "      <td>2.304589</td>\n",
              "      <td>2.806543</td>\n",
              "      <td>0.355000</td>\n",
              "      <td>02:02</td>\n",
              "    </tr>\n",
              "    <tr>\n",
              "      <td>15</td>\n",
              "      <td>2.247882</td>\n",
              "      <td>2.765558</td>\n",
              "      <td>0.366600</td>\n",
              "      <td>02:02</td>\n",
              "    </tr>\n",
              "    <tr>\n",
              "      <td>16</td>\n",
              "      <td>2.174348</td>\n",
              "      <td>2.803895</td>\n",
              "      <td>0.361600</td>\n",
              "      <td>02:03</td>\n",
              "    </tr>\n",
              "    <tr>\n",
              "      <td>17</td>\n",
              "      <td>2.106405</td>\n",
              "      <td>2.743730</td>\n",
              "      <td>0.370500</td>\n",
              "      <td>02:02</td>\n",
              "    </tr>\n",
              "    <tr>\n",
              "      <td>18</td>\n",
              "      <td>2.033816</td>\n",
              "      <td>2.786786</td>\n",
              "      <td>0.368700</td>\n",
              "      <td>02:02</td>\n",
              "    </tr>\n",
              "    <tr>\n",
              "      <td>19</td>\n",
              "      <td>1.962238</td>\n",
              "      <td>2.774349</td>\n",
              "      <td>0.377000</td>\n",
              "      <td>02:01</td>\n",
              "    </tr>\n",
              "    <tr>\n",
              "      <td>20</td>\n",
              "      <td>1.883250</td>\n",
              "      <td>2.786341</td>\n",
              "      <td>0.380000</td>\n",
              "      <td>02:03</td>\n",
              "    </tr>\n",
              "    <tr>\n",
              "      <td>21</td>\n",
              "      <td>1.795217</td>\n",
              "      <td>2.791855</td>\n",
              "      <td>0.379700</td>\n",
              "      <td>01:59</td>\n",
              "    </tr>\n",
              "    <tr>\n",
              "      <td>22</td>\n",
              "      <td>1.713636</td>\n",
              "      <td>2.836566</td>\n",
              "      <td>0.383300</td>\n",
              "      <td>02:03</td>\n",
              "    </tr>\n",
              "  </tbody>\n",
              "</table><p>\n",
              "\n",
              "    <div>\n",
              "        <style>\n",
              "            /* Turns off some styling */\n",
              "            progress {\n",
              "                /* gets rid of default border in Firefox and Opera. */\n",
              "                border: none;\n",
              "                /* Needs to be in here for Safari polyfill so background images work as expected. */\n",
              "                background-size: auto;\n",
              "            }\n",
              "            .progress-bar-interrupted, .progress-bar-interrupted::-webkit-progress-bar {\n",
              "                background: #F44336;\n",
              "            }\n",
              "        </style>\n",
              "      <progress value='10' class='' max='10', style='width:300px; height:20px; vertical-align: middle;'></progress>\n",
              "      100.00% [10/10 00:05<00:00]\n",
              "    </div>\n",
              "    "
            ],
            "text/plain": [
              "<IPython.core.display.HTML object>"
            ]
          },
          "metadata": {
            "tags": []
          }
        },
        {
          "output_type": "stream",
          "text": [
            "Better model found at epoch 0 with val_loss value: 3.625761032104492.\n",
            "Better model found at epoch 1 with val_loss value: 3.1724722385406494.\n",
            "Better model found at epoch 2 with val_loss value: 3.0146329402923584.\n",
            "Better model found at epoch 3 with val_loss value: 2.9810612201690674.\n",
            "Better model found at epoch 4 with val_loss value: 2.9692533016204834.\n",
            "Better model found at epoch 6 with val_loss value: 2.961189031600952.\n",
            "Epoch 7: reducing lr to 0.0018716542103917367\n",
            "Better model found at epoch 8 with val_loss value: 2.952501058578491.\n",
            "Better model found at epoch 10 with val_loss value: 2.8987159729003906.\n",
            "Better model found at epoch 11 with val_loss value: 2.856706142425537.\n",
            "Better model found at epoch 12 with val_loss value: 2.83304500579834.\n",
            "Better model found at epoch 14 with val_loss value: 2.8065433502197266.\n",
            "Better model found at epoch 15 with val_loss value: 2.7655582427978516.\n",
            "Better model found at epoch 17 with val_loss value: 2.743730306625366.\n",
            "Epoch 20: reducing lr to 0.0009718159203112684\n",
            "Epoch 23: reducing lr to 0.0005660289586332664\n",
            "Epoch 23: early stopping\n"
          ],
          "name": "stdout"
        }
      ]
    },
    {
      "cell_type": "code",
      "metadata": {
        "id": "m0iBZ6ejHopA",
        "colab_type": "code",
        "outputId": "18854294-11f5-47c2-aa3b-3e7c2c231e67",
        "colab": {
          "base_uri": "https://localhost:8080/",
          "height": 300
        }
      },
      "source": [
        "ll = sd.label_from_folder()\n",
        "ll=ll.transform(get_transforms(),size=64)\n",
        "bs = 2048//2\n",
        "data = ll.databunch(bs=bs).normalize(imagenet_stats)\n",
        "learn = Learner(data, model, loss_func = nn.CrossEntropyLoss(), metrics=accuracy)\n",
        "learn.callback_fns.append(partial(ReduceLROnPlateauCallback, min_delta=1e-2, patience=2))\n",
        "learn.callback_fns.append(partial(SaveModelCallback,monitor='val_loss',mode='min', name='stage-64'))\n",
        "learn.callback_fns.append(partial(EarlyStoppingCallback,monitor='accuracy',patience = 5))\n",
        "learn=learn.load('stage-32')\n",
        "learn.lr_find(end_lr=100)\n",
        "learn.recorder.plot()"
      ],
      "execution_count": 0,
      "outputs": [
        {
          "output_type": "display_data",
          "data": {
            "text/html": [
              ""
            ],
            "text/plain": [
              "<IPython.core.display.HTML object>"
            ]
          },
          "metadata": {
            "tags": []
          }
        },
        {
          "output_type": "stream",
          "text": [
            "LR Finder is complete, type {learner_name}.recorder.plot() to see the graph.\n"
          ],
          "name": "stdout"
        },
        {
          "output_type": "display_data",
          "data": {
            "image/png": "[encoded data removed]",
            "text/plain": [
              "<Figure size 432x288 with 1 Axes>"
            ]
          },
          "metadata": {
            "tags": []
          }
        }
      ]
    },
    {
      "cell_type": "code",
      "metadata": {
        "id": "vpF_vzY0HxB9",
        "colab_type": "code",
        "outputId": "eb30e844-127b-4a96-c647-baa3ae235416",
        "colab": {
          "base_uri": "https://localhost:8080/",
          "height": 905
        }
      },
      "source": [
        "lr=1e-2\n",
        "learn.fit_one_cycle(32, max_lr=lr)"
      ],
      "execution_count": 0,
      "outputs": [
        {
          "output_type": "display_data",
          "data": {
            "text/html": [
              "\n",
              "    <div>\n",
              "        <style>\n",
              "            /* Turns off some styling */\n",
              "            progress {\n",
              "                /* gets rid of default border in Firefox and Opera. */\n",
              "                border: none;\n",
              "                /* Needs to be in here for Safari polyfill so background images work as expected. */\n",
              "                background-size: auto;\n",
              "            }\n",
              "            .progress-bar-interrupted, .progress-bar-interrupted::-webkit-progress-bar {\n",
              "                background: #F44336;\n",
              "            }\n",
              "        </style>\n",
              "      <progress value='19' class='' max='32', style='width:300px; height:20px; vertical-align: middle;'></progress>\n",
              "      59.38% [19/32 48:57<33:29]\n",
              "    </div>\n",
              "    \n",
              "<table border=\"1\" class=\"dataframe\">\n",
              "  <thead>\n",
              "    <tr style=\"text-align: left;\">\n",
              "      <th>epoch</th>\n",
              "      <th>train_loss</th>\n",
              "      <th>valid_loss</th>\n",
              "      <th>accuracy</th>\n",
              "      <th>time</th>\n",
              "    </tr>\n",
              "  </thead>\n",
              "  <tbody>\n",
              "    <tr>\n",
              "      <td>0</td>\n",
              "      <td>3.612001</td>\n",
              "      <td>3.828073</td>\n",
              "      <td>0.183900</td>\n",
              "      <td>02:34</td>\n",
              "    </tr>\n",
              "    <tr>\n",
              "      <td>1</td>\n",
              "      <td>2.849441</td>\n",
              "      <td>3.110404</td>\n",
              "      <td>0.280600</td>\n",
              "      <td>02:38</td>\n",
              "    </tr>\n",
              "    <tr>\n",
              "      <td>2</td>\n",
              "      <td>2.432498</td>\n",
              "      <td>2.852537</td>\n",
              "      <td>0.333500</td>\n",
              "      <td>02:34</td>\n",
              "    </tr>\n",
              "    <tr>\n",
              "      <td>3</td>\n",
              "      <td>2.244106</td>\n",
              "      <td>2.785127</td>\n",
              "      <td>0.353600</td>\n",
              "      <td>02:35</td>\n",
              "    </tr>\n",
              "    <tr>\n",
              "      <td>4</td>\n",
              "      <td>2.166128</td>\n",
              "      <td>2.780444</td>\n",
              "      <td>0.354200</td>\n",
              "      <td>02:32</td>\n",
              "    </tr>\n",
              "    <tr>\n",
              "      <td>5</td>\n",
              "      <td>2.137752</td>\n",
              "      <td>2.830482</td>\n",
              "      <td>0.356100</td>\n",
              "      <td>02:35</td>\n",
              "    </tr>\n",
              "    <tr>\n",
              "      <td>6</td>\n",
              "      <td>2.135526</td>\n",
              "      <td>2.812394</td>\n",
              "      <td>0.356700</td>\n",
              "      <td>02:34</td>\n",
              "    </tr>\n",
              "    <tr>\n",
              "      <td>7</td>\n",
              "      <td>2.112318</td>\n",
              "      <td>2.811844</td>\n",
              "      <td>0.358900</td>\n",
              "      <td>02:35</td>\n",
              "    </tr>\n",
              "    <tr>\n",
              "      <td>8</td>\n",
              "      <td>2.095780</td>\n",
              "      <td>2.766390</td>\n",
              "      <td>0.362000</td>\n",
              "      <td>02:34</td>\n",
              "    </tr>\n",
              "    <tr>\n",
              "      <td>9</td>\n",
              "      <td>2.038801</td>\n",
              "      <td>2.722838</td>\n",
              "      <td>0.373800</td>\n",
              "      <td>02:34</td>\n",
              "    </tr>\n",
              "    <tr>\n",
              "      <td>10</td>\n",
              "      <td>1.989036</td>\n",
              "      <td>2.706076</td>\n",
              "      <td>0.377000</td>\n",
              "      <td>02:33</td>\n",
              "    </tr>\n",
              "    <tr>\n",
              "      <td>11</td>\n",
              "      <td>1.928981</td>\n",
              "      <td>2.796159</td>\n",
              "      <td>0.368200</td>\n",
              "      <td>02:36</td>\n",
              "    </tr>\n",
              "    <tr>\n",
              "      <td>12</td>\n",
              "      <td>1.853679</td>\n",
              "      <td>2.724684</td>\n",
              "      <td>0.382400</td>\n",
              "      <td>02:33</td>\n",
              "    </tr>\n",
              "    <tr>\n",
              "      <td>13</td>\n",
              "      <td>1.795036</td>\n",
              "      <td>2.619984</td>\n",
              "      <td>0.395100</td>\n",
              "      <td>02:35</td>\n",
              "    </tr>\n",
              "    <tr>\n",
              "      <td>14</td>\n",
              "      <td>1.705905</td>\n",
              "      <td>2.666132</td>\n",
              "      <td>0.401900</td>\n",
              "      <td>02:32</td>\n",
              "    </tr>\n",
              "    <tr>\n",
              "      <td>15</td>\n",
              "      <td>1.640074</td>\n",
              "      <td>2.623101</td>\n",
              "      <td>0.417400</td>\n",
              "      <td>02:34</td>\n",
              "    </tr>\n",
              "    <tr>\n",
              "      <td>16</td>\n",
              "      <td>1.547274</td>\n",
              "      <td>2.750812</td>\n",
              "      <td>0.398500</td>\n",
              "      <td>02:31</td>\n",
              "    </tr>\n",
              "    <tr>\n",
              "      <td>17</td>\n",
              "      <td>1.467183</td>\n",
              "      <td>2.754178</td>\n",
              "      <td>0.398400</td>\n",
              "      <td>02:34</td>\n",
              "    </tr>\n",
              "    <tr>\n",
              "      <td>18</td>\n",
              "      <td>1.374258</td>\n",
              "      <td>2.754763</td>\n",
              "      <td>0.405800</td>\n",
              "      <td>02:34</td>\n",
              "    </tr>\n",
              "  </tbody>\n",
              "</table><p>\n",
              "\n",
              "    <div>\n",
              "        <style>\n",
              "            /* Turns off some styling */\n",
              "            progress {\n",
              "                /* gets rid of default border in Firefox and Opera. */\n",
              "                border: none;\n",
              "                /* Needs to be in here for Safari polyfill so background images work as expected. */\n",
              "                background-size: auto;\n",
              "            }\n",
              "            .progress-bar-interrupted, .progress-bar-interrupted::-webkit-progress-bar {\n",
              "                background: #F44336;\n",
              "            }\n",
              "        </style>\n",
              "      <progress value='10' class='' max='10', style='width:300px; height:20px; vertical-align: middle;'></progress>\n",
              "      100.00% [10/10 00:04<00:00]\n",
              "    </div>\n",
              "    "
            ],
            "text/plain": [
              "<IPython.core.display.HTML object>"
            ]
          },
          "metadata": {
            "tags": []
          }
        },
        {
          "output_type": "stream",
          "text": [
            "Better model found at epoch 0 with val_loss value: 3.8280725479125977.\n",
            "Better model found at epoch 1 with val_loss value: 3.1104040145874023.\n",
            "Better model found at epoch 2 with val_loss value: 2.852537155151367.\n",
            "Better model found at epoch 3 with val_loss value: 2.7851269245147705.\n",
            "Better model found at epoch 4 with val_loss value: 2.780444383621216.\n",
            "Epoch 6: reducing lr to 0.0016733270899621255\n",
            "Better model found at epoch 8 with val_loss value: 2.766390323638916.\n",
            "Better model found at epoch 9 with val_loss value: 2.7228384017944336.\n",
            "Better model found at epoch 10 with val_loss value: 2.706076145172119.\n",
            "Better model found at epoch 13 with val_loss value: 2.6199839115142822.\n",
            "Epoch 16: reducing lr to 0.001507910531681978\n",
            "Epoch 19: reducing lr to 0.0011118141008053266\n",
            "Epoch 19: early stopping\n"
          ],
          "name": "stdout"
        }
      ]
    },
    {
      "cell_type": "code",
      "metadata": {
        "id": "goAraI16HzAx",
        "colab_type": "code",
        "outputId": "1e4d37c0-72e3-40d7-e342-ff0852aae768",
        "colab": {
          "base_uri": "https://localhost:8080/",
          "height": 300
        }
      },
      "source": [
        "ll = sd.label_from_folder()\n",
        "ll=ll.transform(get_transforms(),size=112)\n",
        "bs = 2048//4\n",
        "data = ll.databunch(bs=bs).normalize(imagenet_stats)\n",
        "learn = Learner(data, model, loss_func = nn.CrossEntropyLoss(), metrics=accuracy)\n",
        "learn.callback_fns.append(partial(ReduceLROnPlateauCallback, min_delta=1e-2, patience=2))\n",
        "learn.callback_fns.append(partial(SaveModelCallback,monitor='val_loss',mode='min', name='stage-112'))\n",
        "learn.callback_fns.append(partial(EarlyStoppingCallback,monitor='accuracy',patience = 5))\n",
        "learn=learn.load('stage-64')\n",
        "learn.lr_find(end_lr=100)\n",
        "learn.recorder.plot()"
      ],
      "execution_count": 0,
      "outputs": [
        {
          "output_type": "display_data",
          "data": {
            "text/html": [
              ""
            ],
            "text/plain": [
              "<IPython.core.display.HTML object>"
            ]
          },
          "metadata": {
            "tags": []
          }
        },
        {
          "output_type": "stream",
          "text": [
            "LR Finder is complete, type {learner_name}.recorder.plot() to see the graph.\n"
          ],
          "name": "stdout"
        },
        {
          "output_type": "display_data",
          "data": {
            "image/png": "[encoded data removed]",
            "text/plain": [
              "<Figure size 432x288 with 1 Axes>"
            ]
          },
          "metadata": {
            "tags": []
          }
        }
      ]
    },
    {
      "cell_type": "code",
      "metadata": {
        "id": "TpgkdKRZWN65",
        "colab_type": "code",
        "outputId": "7cffbad9-6b19-4f51-9e5b-f3aaaf87259f",
        "colab": {
          "base_uri": "https://localhost:8080/",
          "height": 936
        }
      },
      "source": [
        "lr=1e-3\n",
        "learn.fit_one_cycle(32, max_lr=lr)"
      ],
      "execution_count": 0,
      "outputs": [
        {
          "output_type": "display_data",
          "data": {
            "text/html": [
              "\n",
              "    <div>\n",
              "        <style>\n",
              "            /* Turns off some styling */\n",
              "            progress {\n",
              "                /* gets rid of default border in Firefox and Opera. */\n",
              "                border: none;\n",
              "                /* Needs to be in here for Safari polyfill so background images work as expected. */\n",
              "                background-size: auto;\n",
              "            }\n",
              "            .progress-bar-interrupted, .progress-bar-interrupted::-webkit-progress-bar {\n",
              "                background: #F44336;\n",
              "            }\n",
              "        </style>\n",
              "      <progress value='20' class='' max='32', style='width:300px; height:20px; vertical-align: middle;'></progress>\n",
              "      62.50% [20/32 1:27:14<52:20]\n",
              "    </div>\n",
              "    \n",
              "<table border=\"1\" class=\"dataframe\">\n",
              "  <thead>\n",
              "    <tr style=\"text-align: left;\">\n",
              "      <th>epoch</th>\n",
              "      <th>train_loss</th>\n",
              "      <th>valid_loss</th>\n",
              "      <th>accuracy</th>\n",
              "      <th>time</th>\n",
              "    </tr>\n",
              "  </thead>\n",
              "  <tbody>\n",
              "    <tr>\n",
              "      <td>0</td>\n",
              "      <td>3.697146</td>\n",
              "      <td>3.683738</td>\n",
              "      <td>0.239600</td>\n",
              "      <td>04:19</td>\n",
              "    </tr>\n",
              "    <tr>\n",
              "      <td>1</td>\n",
              "      <td>3.187777</td>\n",
              "      <td>3.223653</td>\n",
              "      <td>0.284900</td>\n",
              "      <td>04:18</td>\n",
              "    </tr>\n",
              "    <tr>\n",
              "      <td>2</td>\n",
              "      <td>2.735895</td>\n",
              "      <td>2.834409</td>\n",
              "      <td>0.343000</td>\n",
              "      <td>04:20</td>\n",
              "    </tr>\n",
              "    <tr>\n",
              "      <td>3</td>\n",
              "      <td>2.366611</td>\n",
              "      <td>2.566164</td>\n",
              "      <td>0.390300</td>\n",
              "      <td>04:21</td>\n",
              "    </tr>\n",
              "    <tr>\n",
              "      <td>4</td>\n",
              "      <td>2.130025</td>\n",
              "      <td>2.419227</td>\n",
              "      <td>0.425200</td>\n",
              "      <td>04:20</td>\n",
              "    </tr>\n",
              "    <tr>\n",
              "      <td>5</td>\n",
              "      <td>1.953004</td>\n",
              "      <td>2.369150</td>\n",
              "      <td>0.436500</td>\n",
              "      <td>04:21</td>\n",
              "    </tr>\n",
              "    <tr>\n",
              "      <td>6</td>\n",
              "      <td>1.835300</td>\n",
              "      <td>2.343538</td>\n",
              "      <td>0.446100</td>\n",
              "      <td>04:20</td>\n",
              "    </tr>\n",
              "    <tr>\n",
              "      <td>7</td>\n",
              "      <td>1.746105</td>\n",
              "      <td>2.330222</td>\n",
              "      <td>0.453200</td>\n",
              "      <td>04:20</td>\n",
              "    </tr>\n",
              "    <tr>\n",
              "      <td>8</td>\n",
              "      <td>1.667852</td>\n",
              "      <td>2.348142</td>\n",
              "      <td>0.453200</td>\n",
              "      <td>04:22</td>\n",
              "    </tr>\n",
              "    <tr>\n",
              "      <td>9</td>\n",
              "      <td>1.600166</td>\n",
              "      <td>2.351248</td>\n",
              "      <td>0.453300</td>\n",
              "      <td>04:21</td>\n",
              "    </tr>\n",
              "    <tr>\n",
              "      <td>10</td>\n",
              "      <td>1.536407</td>\n",
              "      <td>2.353755</td>\n",
              "      <td>0.454700</td>\n",
              "      <td>04:23</td>\n",
              "    </tr>\n",
              "    <tr>\n",
              "      <td>11</td>\n",
              "      <td>1.477219</td>\n",
              "      <td>2.382096</td>\n",
              "      <td>0.455500</td>\n",
              "      <td>04:23</td>\n",
              "    </tr>\n",
              "    <tr>\n",
              "      <td>12</td>\n",
              "      <td>1.406938</td>\n",
              "      <td>2.417610</td>\n",
              "      <td>0.451300</td>\n",
              "      <td>04:22</td>\n",
              "    </tr>\n",
              "    <tr>\n",
              "      <td>13</td>\n",
              "      <td>1.366486</td>\n",
              "      <td>2.416583</td>\n",
              "      <td>0.454300</td>\n",
              "      <td>04:21</td>\n",
              "    </tr>\n",
              "    <tr>\n",
              "      <td>14</td>\n",
              "      <td>1.316782</td>\n",
              "      <td>2.435807</td>\n",
              "      <td>0.458300</td>\n",
              "      <td>04:23</td>\n",
              "    </tr>\n",
              "    <tr>\n",
              "      <td>15</td>\n",
              "      <td>1.268183</td>\n",
              "      <td>2.465550</td>\n",
              "      <td>0.451600</td>\n",
              "      <td>04:23</td>\n",
              "    </tr>\n",
              "    <tr>\n",
              "      <td>16</td>\n",
              "      <td>1.221529</td>\n",
              "      <td>2.478609</td>\n",
              "      <td>0.450100</td>\n",
              "      <td>04:21</td>\n",
              "    </tr>\n",
              "    <tr>\n",
              "      <td>17</td>\n",
              "      <td>1.158716</td>\n",
              "      <td>2.527534</td>\n",
              "      <td>0.448000</td>\n",
              "      <td>04:23</td>\n",
              "    </tr>\n",
              "    <tr>\n",
              "      <td>18</td>\n",
              "      <td>1.115083</td>\n",
              "      <td>2.537787</td>\n",
              "      <td>0.453400</td>\n",
              "      <td>04:22</td>\n",
              "    </tr>\n",
              "    <tr>\n",
              "      <td>19</td>\n",
              "      <td>1.085643</td>\n",
              "      <td>2.571726</td>\n",
              "      <td>0.453200</td>\n",
              "      <td>04:20</td>\n",
              "    </tr>\n",
              "  </tbody>\n",
              "</table><p>\n",
              "\n",
              "    <div>\n",
              "        <style>\n",
              "            /* Turns off some styling */\n",
              "            progress {\n",
              "                /* gets rid of default border in Firefox and Opera. */\n",
              "                border: none;\n",
              "                /* Needs to be in here for Safari polyfill so background images work as expected. */\n",
              "                background-size: auto;\n",
              "            }\n",
              "            .progress-bar-interrupted, .progress-bar-interrupted::-webkit-progress-bar {\n",
              "                background: #F44336;\n",
              "            }\n",
              "        </style>\n",
              "      <progress value='20' class='' max='20', style='width:300px; height:20px; vertical-align: middle;'></progress>\n",
              "      100.00% [20/20 00:12<00:00]\n",
              "    </div>\n",
              "    "
            ],
            "text/plain": [
              "<IPython.core.display.HTML object>"
            ]
          },
          "metadata": {
            "tags": []
          }
        },
        {
          "output_type": "stream",
          "text": [
            "Better model found at epoch 0 with val_loss value: 3.6837375164031982.\n",
            "Better model found at epoch 1 with val_loss value: 3.2236530780792236.\n",
            "Better model found at epoch 2 with val_loss value: 2.834409236907959.\n",
            "Better model found at epoch 3 with val_loss value: 2.566164016723633.\n",
            "Better model found at epoch 4 with val_loss value: 2.419227361679077.\n",
            "Better model found at epoch 5 with val_loss value: 2.369150161743164.\n",
            "Better model found at epoch 6 with val_loss value: 2.3435375690460205.\n",
            "Better model found at epoch 7 with val_loss value: 2.3302221298217773.\n",
            "Epoch 10: reducing lr to 0.0001980785357262109\n",
            "Epoch 13: reducing lr to 0.00018155616067157843\n",
            "Epoch 16: reducing lr to 0.00015080773129451483\n",
            "Epoch 19: reducing lr to 0.00011119680282454034\n",
            "Epoch 20: early stopping\n"
          ],
          "name": "stdout"
        }
      ]
    },
    {
      "cell_type": "code",
      "metadata": {
        "id": "tm50i-A53LtJ",
        "colab_type": "code",
        "colab": {}
      },
      "source": [
        "ll = sd.label_from_folder()\n",
        "ll=ll.transform(get_transforms(),size=112)\n",
        "bs = 2048//4\n",
        "data = ll.databunch(bs=bs).normalize(imagenet_stats)\n",
        "learn = Learner(data, model, loss_func = nn.CrossEntropyLoss(), metrics=accuracy)\n",
        "learn=learn.load('stage-112')"
      ],
      "execution_count": 0,
      "outputs": []
    },
    {
      "cell_type": "code",
      "metadata": {
        "id": "qkZnjEGyQ6Fx",
        "colab_type": "code",
        "outputId": "2374bf6e-ff4f-43d1-d50d-6426249887e2",
        "colab": {
          "base_uri": "https://localhost:8080/",
          "height": 34
        }
      },
      "source": [
        "#Validation Accuracy\n",
        "learn.validate(learn.data.valid_dl)"
      ],
      "execution_count": 0,
      "outputs": [
        {
          "output_type": "execute_result",
          "data": {
            "text/plain": [
              "[2.3302221, tensor(0.4532)]"
            ]
          },
          "metadata": {
            "tags": []
          },
          "execution_count": 47
        }
      ]
    }
  ]
}